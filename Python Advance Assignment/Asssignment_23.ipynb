{
 "cells": [
  {
   "cell_type": "markdown",
   "metadata": {},
   "source": [
    "Q1. If you have any, what are your choices for increasing the comparison between different figures on\n",
    "the same graph?"
   ]
  },
  {
   "cell_type": "markdown",
   "metadata": {},
   "source": [
    "Ans :\n",
    "    \n",
    "There are several ways to increase the comparison between different figures on the same graph:\n",
    "\n",
    "1.Adding Legends: Legends provide a key for each figure and make it easier to differentiate between figures. Legends can be added to the graph using a function such as pyplot.legend() in matplotlib.\n",
    "\n",
    "2.Using Different Colors and Markers: Using different colors and markers for each figure can help differentiate the figures on the graph. For example, you can use pyplot.plot(x, y1, 'r', label='Figure 1') to plot the first figure in red and pyplot.plot(x, y2, 'g--', label='Figure 2') to plot the second figure in green with a dashed line.\n",
    "\n",
    "3.Using Subplots: Subplots allow you to display multiple figures in a single graph. You can arrange the subplots in different ways to make it easier to compare the figures. For example, you can use pyplot.subplot(1, 2, 1) to create a subplot in the first row, first column, and pyplot.subplot(1, 2, 2) to create another subplot in the first row, second column.\n",
    "\n",
    "4.Adding Gridlines: Adding gridlines to the graph can make it easier to compare the figures. You can add gridlines to the graph using the pyplot.grid() function.\n",
    "\n",
    "5.Adding Annotations: Adding annotations to the graph can help highlight important points in the data. For example, you can use the pyplot.annotate() function to add a text label to the graph."
   ]
  },
  {
   "cell_type": "markdown",
   "metadata": {},
   "source": [
    "Q2. Can you explain the benefit of compound interest over a higher rate of interest that does not\n",
    "compound after reading this chapter?"
   ]
  },
  {
   "cell_type": "markdown",
   "metadata": {},
   "source": [
    "Ans :\n",
    "    \n",
    "Compound interest refers to the interest that is earned not only on the initial principal amount, but also on the accumulated interest over time. In contrast, a higher interest rate that does not compound only earns interest on the initial principal amount and not on the accumulated interest.\n",
    "\n",
    "The benefit of compound interest over a higher rate of interest that does not compound is that compound interest can grow the savings faster and lead to a larger total amount over time. This is because each time the interest is calculated and added to the total, the new interest amount is based on the larger principal, which includes the previously accumulated interest. This creates a multiplier effect that can result in much larger returns over time compared to a simple interest rate.\n",
    "\n",
    "For example, if you have an initial principal amount of $1000 and an interest rate of 5% per year, with compound interest, the total amount after 5 years would be $1276.28, compared to $1250 if the interest does not compound.\n",
    "\n",
    "Therefore, when considering investments, it is important to look not only at the interest rate, but also at whether the interest compounds, as this can greatly affect the total amount earned over time."
   ]
  },
  {
   "cell_type": "markdown",
   "metadata": {},
   "source": [
    "Q3. What is a histogram, exactly? Name a numpy method for creating such a graph."
   ]
  },
  {
   "cell_type": "markdown",
   "metadata": {},
   "source": [
    "Ans :\n",
    "    \n",
    "A histogram is a graphical representation of the distribution of a set of numerical data. It groups the data into \"bins,\" or ranges of values, and displays the number of data points that fall into each bin as bars. The height of each bar represents the frequency or density of the data in that bin. The bars in a histogram can be either adjacent (forming a rectangular bar graph) or not adjacent (forming a stair-step-like graph).\n",
    "\n",
    "A numpy method for creating a histogram is numpy.histogram(), which takes in an array of numerical data and returns the binned data in the form of histogram bin edges and frequencies. This function can be used in combination with matplotlib to visualize the histogram. \n",
    "\n",
    "For Example,"
   ]
  },
  {
   "cell_type": "code",
   "execution_count": 1,
   "metadata": {},
   "outputs": [
    {
     "data": {
      "image/png": "[encoded data removed]",
      "text/plain": [
       "<Figure size 432x288 with 1 Axes>"
      ]
     },
     "metadata": {
      "needs_background": "light"
     },
     "output_type": "display_data"
    }
   ],
   "source": [
    "import numpy as np\n",
    "import matplotlib.pyplot as plt\n",
    "\n",
    "data = np.random.randn(100)\n",
    "hist, bins = np.histogram(data, bins=10)\n",
    "\n",
    "plt.hist(data, bins=bins)\n",
    "plt.show()"
   ]
  },
  {
   "cell_type": "markdown",
   "metadata": {},
   "source": [
    "Q4. If necessary, how do you change the aspect ratios between the X and Y axes?"
   ]
  },
  {
   "cell_type": "markdown",
   "metadata": {},
   "source": [
    "Ans :\n",
    "    \n",
    "In Matplotlib, the aspect ratio between the X and Y axes can be changed by setting the aspect parameter in the plotting function. The default aspect ratio is 'auto', which automatically sets the aspect ratio based on the data.\n",
    "\n",
    "To set a specific aspect ratio, use a value for the aspect parameter. For example, if you want the X axis to be twice as long as the Y axis, use aspect=2."
   ]
  },
  {
   "cell_type": "code",
   "execution_count": 2,
   "metadata": {},
   "outputs": [
    {
     "data": {
      "image/png": "[encoded data removed]",
      "text/plain": [
       "<Figure size 432x288 with 1 Axes>"
      ]
     },
     "metadata": {
      "needs_background": "light"
     },
     "output_type": "display_data"
    }
   ],
   "source": [
    "import matplotlib.pyplot as plt\n",
    "import numpy as np\n",
    "\n",
    "x = np.linspace(0, 10, 100)\n",
    "y = x ** 2\n",
    "\n",
    "fig, ax = plt.subplots()\n",
    "ax.plot(x, y)\n",
    "ax.set_aspect(2)\n",
    "plt.show()"
   ]
  },
  {
   "cell_type": "markdown",
   "metadata": {},
   "source": [
    "Q5. Compare and contrast the three types of array multiplication between two numpy arrays: dot\n",
    "product, outer product, and regular multiplication of two numpy arrays."
   ]
  },
  {
   "cell_type": "markdown",
   "metadata": {},
   "source": [
    "Ans :\n",
    "    \n",
    "1.The three types of array multiplication between two numpy arrays are:\n",
    "\n",
    "Dot product: The dot product, also known as a scalar product or inner product, is a mathematical operation that takes two arrays of the same size and returns a scalar value. The dot product of two arrays A and B is computed as the sum of the element-wise product of the arrays.\n",
    "\n",
    "In Numpy, the dot product can be calculated using the numpy.dot() function.\n",
    "\n",
    "2.Outer product: The outer product is a mathematical operation that takes two arrays of any size and returns a two-dimensional array. The outer product of two arrays A and B is computed as an array C with shape (len(A), len(B)), where each element C_ij is equal to A_i * B_j.\n",
    "\n",
    "In Numpy, the outer product can be calculated using the numpy.outer() function.\n",
    "\n",
    "3.Regular multiplication: Regular multiplication, also known as element-wise multiplication, is a mathematical operation that takes two arrays of the same size and returns a new array with the same shape, where each element is the product of the corresponding elements in the input arrays.\n",
    "\n",
    "In Numpy, regular multiplication can be performed by simply multiplying the arrays: A * B."
   ]
  },
  {
   "cell_type": "markdown",
   "metadata": {},
   "source": [
    "Q7. Can string data be stored in numpy arrays? If so, list at least one restriction that applies to this\n",
    "data."
   ]
  },
  {
   "cell_type": "markdown",
   "metadata": {},
   "source": [
    "Ans :\n",
    "    \n",
    "Yes, string data can be stored in numpy arrays. However, there is a restriction that applies to this data in that all elements of a numpy array must have the same data type. When storing strings in a numpy array, it is common to store arrays of fixed-length strings, which means that all strings must have the same length. If you try to store a string that is longer than the fixed length in an array of fixed-length strings, it will either be truncated or raise an error, depending on the implementation."
   ]
  },
  {
   "cell_type": "code",
   "execution_count": null,
   "metadata": {},
   "outputs": [],
   "source": []
  },
  {
   "cell_type": "code",
   "execution_count": null,
   "metadata": {},
   "outputs": [],
   "source": []
  },
  {
   "cell_type": "code",
   "execution_count": null,
   "metadata": {},
   "outputs": [],
   "source": []
  },
  {
   "cell_type": "code",
   "execution_count": null,
   "metadata": {},
   "outputs": [],
   "source": []
  },
  {
   "cell_type": "code",
   "execution_count": null,
   "metadata": {},
   "outputs": [],
   "source": []
  },
  {
   "cell_type": "code",
   "execution_count": null,
   "metadata": {},
   "outputs": [],
   "source": []
  },
  {
   "cell_type": "code",
   "execution_count": null,
   "metadata": {},
   "outputs": [],
   "source": []
  }
 ],
 "metadata": {
  "kernelspec": {
   "display_name": "Python 3",
   "language": "python",
   "name": "python3"
  },
  "language_info": {
   "codemirror_mode": {
    "name": "ipython",
    "version": 3
   },
   "file_extension": ".py",
   "mimetype": "text/x-python",
   "name": "python",
   "nbconvert_exporter": "python",
   "pygments_lexer": "ipython3",
   "version": "3.7.6"
  }
 },
 "nbformat": 4,
 "nbformat_minor": 4
}
