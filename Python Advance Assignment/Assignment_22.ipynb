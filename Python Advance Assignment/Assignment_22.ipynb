{
 "cells": [
  {
   "cell_type": "markdown",
   "metadata": {},
   "source": [
    "Q1. What are the benefits of the built-in array package, if any?"
   ]
  },
  {
   "cell_type": "markdown",
   "metadata": {},
   "source": [
    "Ans :\n",
    "\n",
    "The built-in array package in Python provides a way to efficiently store and manipulate arrays of numerical data. Some of the benefits of using the array package are:\n",
    "\n",
    "1.Memory Efficiency: Arrays created using the array package use less memory compared to lists, which can be important for large data sets.\n",
    "\n",
    "2.Speed: The array package provides fast and efficient operations for reading, writing and accessing array elements.\n",
    "\n",
    "3.Type Strictness: The array package allows you to specify the type of data that the array will store, making it easier to catch type-related errors during development.\n",
    "\n",
    "4.Interoperability: The array package can be used with other numerical libraries and tools, making it a good choice for numerical computing and data analysis tasks."
   ]
  },
  {
   "cell_type": "markdown",
   "metadata": {},
   "source": [
    "Q2.What are some of the array package's limitations?"
   ]
  },
  {
   "cell_type": "markdown",
   "metadata": {},
   "source": [
    "Ans :\n",
    "\n",
    "The built-in array package in Python has the following limitations:\n",
    "\n",
    "1.Fixed Size: Once an array is created, its size cannot be changed. If you need to add or remove elements from an array, you have to create a new array and copy the elements over.\n",
    "\n",
    "2.Limited Data Types: The array package supports only a limited set of data types, including integers and floating-point numbers. It does not support other data types such as strings or objects.\n",
    "\n",
    "3.No Built-in Methods: The array package does not provide many of the built-in methods and functions that are available for lists, such as sort, append, insert, etc. You have to write custom code to perform these operations on arrays.\n",
    "\n",
    "4.Not as Flexible as Lists: Lists are more flexible and versatile than arrays, as they can store elements of different data types and can be easily resized. The array package is designed for numerical data and is not as flexible as lists for other types of data.\n",
    "\n",
    "5.Performance: While arrays are faster than lists for numerical data, they may not be the fastest option for all use cases. In some cases, other data structures or libraries may provide better performance for specific tasks."
   ]
  },
  {
   "cell_type": "code",
   "execution_count": null,
   "metadata": {},
   "outputs": [],
   "source": [
    "Q3.Describe the main differences between the array and numpy packages."
   ]
  },
  {
   "cell_type": "markdown",
   "metadata": {},
   "source": [
    "Ans :\n",
    "\n",
    "The array and numpy packages in Python are both used for numerical computing and data analysis, but they have some important differences:\n",
    "\n",
    "1.Size and Shape: While arrays created with the array package have a fixed size, numpy arrays can be resized dynamically. numpy arrays also have a shape attribute that allows you to manipulate multi-dimensional arrays.\n",
    "\n",
    "2.Data Types: The array package supports only a limited set of data types, while numpy supports a wide range of data types, including integers, floating-point numbers, complex numbers, and more.\n",
    "\n",
    "3.Built-in Functions: numpy provides a large set of built-in functions for numerical computing, such as mean, median, corrcoef, fft, etc. The array package does not provide as many built-in functions.\n",
    "\n",
    "4.Broadcasting: numpy provides a powerful broadcasting mechanism that allows you to perform element-wise operations on arrays of different shapes.\n",
    "\n",
    "5.Interoperability: numpy integrates well with other scientific computing packages, such as scipy and matplotlib.\n",
    "\n",
    "6.Performance: numpy is optimized for numerical computing and is faster than the array package for many operations."
   ]
  },
  {
   "cell_type": "markdown",
   "metadata": {},
   "source": [
    "Q4.Explain the distinctions between the empty, ones, and zeros functions."
   ]
  },
  {
   "cell_type": "markdown",
   "metadata": {},
   "source": [
    "Ans :\n",
    "\n",
    "In numpy, the empty, ones, and zeros functions are used to create arrays with specific initial values:\n",
    "\n",
    "empty: The empty function creates an array with uninitialized data. The values in the array are whatever happens to be in memory at the time of creation.\n",
    "\n",
    "ones: The ones function creates an array filled with ones. The shape and data type of the array can be specified as arguments.\n",
    "\n",
    "zeros: The zeros function creates an array filled with zeros. The shape and data type of the array can be specified as arguments."
   ]
  },
  {
   "cell_type": "markdown",
   "metadata": {},
   "source": [
    "Q5. In the fromfunction function, which is used to construct new arrays, what is the role of the callable\n",
    "argument?"
   ]
  },
  {
   "cell_type": "markdown",
   "metadata": {},
   "source": [
    "Ans :\n",
    "\n",
    "In numpy, the fromfunction function is used to construct a new array by calling a given callable (i.e. a function) for each index in the array. The callable argument is a function that is called for each index in the array and its return value is used to set the corresponding element in the array.\n",
    "\n",
    "For Example,"
   ]
  },
  {
   "cell_type": "code",
   "execution_count": null,
   "metadata": {},
   "outputs": [],
   "source": [
    "import numpy as np\n",
    "\n",
    "a = np.array([1, 2, 3, 4])\n",
    "b = np.fromfunction(lambda i: a[i]**2, a.shape)"
   ]
  },
  {
   "cell_type": "markdown",
   "metadata": {},
   "source": [
    "Q6. What happens when a numpy array is combined with a single-value operand (a scalar, such as\n",
    "an int or a floating-point value) through addition, as in the expression A + n?"
   ]
  },
  {
   "cell_type": "markdown",
   "metadata": {},
   "source": [
    "Ans :\n",
    "\n",
    "When a numpy array A is combined with a single-value operand (a scalar n) through addition, as in the expression A + n, numpy performs element-wise addition, where the scalar n is added to each element in the array A.\n",
    "\n",
    "For Example,"
   ]
  },
  {
   "cell_type": "code",
   "execution_count": 2,
   "metadata": {},
   "outputs": [],
   "source": [
    "import numpy as np\n",
    "\n",
    "A = np.array([1, 2, 3, 4])\n",
    "n = 2\n",
    "result = A + n"
   ]
  },
  {
   "cell_type": "code",
   "execution_count": 3,
   "metadata": {},
   "outputs": [
    {
     "name": "stdout",
     "output_type": "stream",
     "text": [
      "[3 4 5 6]\n"
     ]
    }
   ],
   "source": [
    "print(result)"
   ]
  },
  {
   "cell_type": "markdown",
   "metadata": {},
   "source": [
    "Q7. Can array-to-scalar operations use combined operation-assign operators (such as += or *=)?\n",
    "What is the outcome?"
   ]
  },
  {
   "cell_type": "markdown",
   "metadata": {},
   "source": [
    "Ans :\n",
    "    \n",
    "Yes, array-to-scalar operations can use combined operation-assign operators such as += or *= in numpy. The outcome of such operations is an in-place modification of the elements of the array.\n",
    "\n",
    "For Example,"
   ]
  },
  {
   "cell_type": "code",
   "execution_count": 4,
   "metadata": {},
   "outputs": [],
   "source": [
    "import numpy as np\n",
    "\n",
    "A = np.array([1, 2, 3, 4])\n",
    "n = 2\n",
    "A += n"
   ]
  },
  {
   "cell_type": "markdown",
   "metadata": {},
   "source": [
    "Q8. Does a numpy array contain fixed-length strings? What happens if you allocate a longer string to\n",
    "one of these arrays?"
   ]
  },
  {
   "cell_type": "markdown",
   "metadata": {},
   "source": [
    "Ans :\n",
    "    \n",
    "Yes, numpy arrays can contain fixed-length strings. In numpy, you can allocate an array with a dtype of 'U' followed by an integer that specifies the maximum number of characters in the strings, such as 'U10' for 10 characters. This creates an array of fixed-length strings.\n",
    "\n",
    "For Example,"
   ]
  },
  {
   "cell_type": "code",
   "execution_count": 5,
   "metadata": {},
   "outputs": [],
   "source": [
    "import numpy as np\n",
    "\n",
    "arr = np.array(['hello', 'world', 'foo', 'bar'], dtype='U10')"
   ]
  },
  {
   "cell_type": "markdown",
   "metadata": {},
   "source": [
    "Q9. What happens when you combine two numpy arrays using an operation like addition (+) or\n",
    "multiplication (*)? What are the conditions for combining two numpy arrays?"
   ]
  },
  {
   "cell_type": "markdown",
   "metadata": {},
   "source": [
    "Ans :\n",
    "\n",
    "When you combine two numpy arrays using an operation like addition (+) or multiplication (*), numpy performs element-wise operations, meaning that each element in one array is combined with the corresponding element in the other array.\n",
    "\n",
    "The conditions for combining two numpy arrays are:\n",
    "\n",
    "1.Shape compatibility: The shapes of the two arrays must be compatible, meaning that they must be broadcastable to a common shape.\n",
    "\n",
    "2.Data type compatibility: The data types of the two arrays must be compatible, meaning that they must be the same or castable to the same data type.\n",
    "\n",
    "For Example,"
   ]
  },
  {
   "cell_type": "code",
   "execution_count": 6,
   "metadata": {},
   "outputs": [],
   "source": [
    "import numpy as np\n",
    "\n",
    "A = np.array([1, 2, 3, 4])\n",
    "B = np.array([2, 3, 4, 5])\n",
    "result = A + B\n"
   ]
  },
  {
   "cell_type": "markdown",
   "metadata": {},
   "source": [
    "Q10. What is the best way to use a Boolean array to mask another array?"
   ]
  },
  {
   "cell_type": "markdown",
   "metadata": {},
   "source": [
    "Ans :\n",
    "\n",
    "A Boolean array can be used to mask another array by selecting elements from the array based on the values in the Boolean array. This can be done using the following steps:\n",
    "\n",
    "1.Create a Boolean array: A Boolean array is an array of True and False values that can be used to index into another array.\n",
    "\n",
    "2.Use the Boolean array as an index: To use the Boolean array as an index, simply use it to index into the array you want to mask. When using a Boolean array as an index, numpy selects all elements from the array that have corresponding True values in the Boolean array.\n",
    "\n",
    "For Example,"
   ]
  },
  {
   "cell_type": "code",
   "execution_count": 7,
   "metadata": {},
   "outputs": [],
   "source": [
    "import numpy as np\n",
    "\n",
    "A = np.array([1, 2, 3, 4, 5, 6, 7, 8, 9, 10])\n",
    "mask = np.array([True, False, True, False, True, False, True, False, True, False])\n",
    "result = A[mask]"
   ]
  },
  {
   "cell_type": "code",
   "execution_count": 8,
   "metadata": {},
   "outputs": [
    {
     "name": "stdout",
     "output_type": "stream",
     "text": [
      "[1 3 5 7 9]\n"
     ]
    }
   ],
   "source": [
    "print(result)"
   ]
  },
  {
   "cell_type": "markdown",
   "metadata": {},
   "source": [
    "Q11. What are three different ways to get the standard deviation of a wide collection of data using\n",
    "both standard Python and its packages? Sort the three of them by how quickly they execute."
   ]
  },
  {
   "cell_type": "markdown",
   "metadata": {},
   "source": [
    "Ans :\n",
    "    \n",
    "There are three ways to get the standard deviation of a wide collection of data using both standard Python and its packages, sorted by execution speed from fastest to slowest:\n",
    "\n",
    "1.Numpy's std function: This is the fastest method for calculating the standard deviation of a collection of data. The numpy library provides a function called numpy.std that calculates the standard deviation of a data array.\n",
    "\n",
    "2.The statistics module's stdev function: This method uses the statistics module, which is part of the standard Python library. The statistics module provides a function called stdev that calculates the standard deviation of a collection of data.\n",
    "\n",
    "3.A manual calculation using a for loop: This method involves manually calculating the standard deviation of a collection of data using a for loop. This method is the slowest of the three methods, as it requires iterating through the data array multiple times."
   ]
  },
  {
   "cell_type": "markdown",
   "metadata": {},
   "source": [
    "Q12. What is the dimensionality of a Boolean mask-generated array?"
   ]
  },
  {
   "cell_type": "markdown",
   "metadata": {},
   "source": [
    "Ans :\n",
    "    \n",
    "The dimensionality of a Boolean mask-generated array depends on the shape of the Boolean mask and the shape of the original array. When a Boolean mask is used to index into an array, the resulting array will have the same number of dimensions as the original array, but some dimensions may be reduced to length 1 if all of the elements along that dimension are masked.\n",
    "\n",
    "For Example,"
   ]
  },
  {
   "cell_type": "code",
   "execution_count": 9,
   "metadata": {},
   "outputs": [],
   "source": [
    "import numpy as np\n",
    "\n",
    "A = np.array([[1, 2, 3], [4, 5, 6], [7, 8, 9]])\n",
    "mask = np.array([[True, False, True], [False, True, False], [True, False, True]])\n",
    "result = A[mask]\n"
   ]
  },
  {
   "cell_type": "code",
   "execution_count": 11,
   "metadata": {},
   "outputs": [
    {
     "name": "stdout",
     "output_type": "stream",
     "text": [
      "[1 3 5 7 9]\n"
     ]
    }
   ],
   "source": [
    "print(result)"
   ]
  },
  {
   "cell_type": "code",
   "execution_count": null,
   "metadata": {},
   "outputs": [],
   "source": []
  }
 ],
 "metadata": {
  "kernelspec": {
   "display_name": "Python 3",
   "language": "python",
   "name": "python3"
  },
  "language_info": {
   "codemirror_mode": {
    "name": "ipython",
    "version": 3
   },
   "file_extension": ".py",
   "mimetype": "text/x-python",
   "name": "python",
   "nbconvert_exporter": "python",
   "pygments_lexer": "ipython3",
   "version": "3.7.6"
  }
 },
 "nbformat": 4,
 "nbformat_minor": 4
}
