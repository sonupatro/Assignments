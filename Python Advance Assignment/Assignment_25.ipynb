{
 "cells": [
  {
   "cell_type": "markdown",
   "metadata": {},
   "source": [
    "Q1. What is the distinction between a numpy array and a pandas data frame? Is there a way to\n",
    "convert between the two if there is?"
   ]
  },
  {
   "cell_type": "markdown",
   "metadata": {},
   "source": [
    "Ans :\n",
    "\n",
    "A numpy array is a homogeneous multi-dimensional array, while a pandas data frame is a two-dimensional labeled data structure with columns that can be of different data types. There is a way to convert between the two by using the numpy array's \"tolist()\" method to convert it to a list, and then using the pandas DataFrame constructor to convert the list to a pandas data frame."
   ]
  },
  {
   "cell_type": "markdown",
   "metadata": {},
   "source": [
    "Q2. What can go wrong when an user enters in a stock-ticker symbol, and how do you handle it?"
   ]
  },
  {
   "cell_type": "markdown",
   "metadata": {},
   "source": [
    "Ans :\n",
    "    \n",
    "There are several things that can go wrong when a user enters a stock ticker symbol:\n",
    "\n",
    "1.Invalid Symbol: The user may enter an incorrect symbol or a symbol that doesn't exist, leading to an error or an incorrect result. To handle this, you can validate the symbol by checking if it is recognized by a reputable financial data source, and return an error message if it is not.\n",
    "\n",
    "2.Incomplete Data: The user may enter a symbol for a stock that doesn't have enough data available, leading to an error or an incomplete result. To handle this, you can check for missing data before processing the symbol, and return an error message if necessary.\n",
    "\n",
    "3.Outdated Data: The user may enter a symbol for a stock whose data is outdated, leading to incorrect results. To handle this, you can check the date of the data before processing the symbol, and return an error message if necessary.\n",
    "\n",
    "4.Network Issues: The user may enter a symbol during a time when your application is unable to access the financial data due to network issues. To handle this, you can implement error handling to catch network exceptions and return an error message if necessary.\n",
    "\n",
    "5.Currency Issues: The user may enter a symbol for a stock that is priced in a different currency, leading to incorrect results. To handle this, you can check the currency of the data before processing the symbol, and return an error message if necessary."
   ]
  },
  {
   "cell_type": "markdown",
   "metadata": {},
   "source": [
    "Q3. Identify some of the plotting techniques that are used to produce a stock-market chart."
   ]
  },
  {
   "cell_type": "markdown",
   "metadata": {},
   "source": [
    "Ans :\n",
    "\n",
    "There are several plotting techniques that can be used to produce a stock-market chart, including:\n",
    "\n",
    "1.Line chart: A line chart is the most common type of chart used in stock market analysis. It plots the price of a stock over time.\n",
    "\n",
    "2.Candlestick chart: A candlestick chart is a type of financial chart that is used to represent price movements of a stock.\n",
    "\n",
    "3.Bar chart: A bar chart is a type of chart that represents price changes as a series of bars.\n",
    "\n",
    "4.OHLC chart: An Open-High-Low-Close (OHLC) chart is a type of bar chart that displays the opening, high, low, and closing prices for a stock over a specified period of time.\n",
    "\n",
    "5.Volume chart: A volume chart displays the number of shares traded during a specified period of time.\n",
    "\n",
    "6.Moving average chart: A moving average chart is a type of chart that shows the average price of a stock over a specified period of time."
   ]
  },
  {
   "cell_type": "markdown",
   "metadata": {},
   "source": [
    "Q4. Why is it essential to print a legend on a stock market chart?"
   ]
  },
  {
   "cell_type": "markdown",
   "metadata": {},
   "source": [
    "Ans :\n",
    "\n",
    "A legend on a stock market chart helps identify the different data sets being plotted. For example, if a chart is plotting the stock price and volume of a particular stock, the legend would label these two data sets so that the reader can easily understand what each line or bar represents. This is essential because it allows the reader to quickly and accurately interpret the chart, making it easier to draw insights and make decisions based on the data being presented."
   ]
  },
  {
   "cell_type": "markdown",
   "metadata": {},
   "source": [
    "Q5. What is the best way to limit the length of a pandas data frame to less than a year?"
   ]
  },
  {
   "cell_type": "markdown",
   "metadata": {},
   "source": [
    "Ans :\n",
    "\n",
    "The best way to limit the length of a pandas data frame to less than a year is to slice the data frame based on the date range. You can use the .loc[] or .iloc[] accessor to filter the data frame based on the date index. \n",
    "\n",
    "For Example,"
   ]
  },
  {
   "cell_type": "code",
   "execution_count": null,
   "metadata": {},
   "outputs": [],
   "source": [
    "import pandas as pd\n",
    "import numpy as np\n",
    "\n",
    "# create a sample data frame with a date index\n",
    "dates = pd.date_range(start='2020-01-01', end='2022-12-31', freq='D')\n",
    "df = pd.DataFrame({'data': np.random.randn(len(dates))}, index=dates)\n",
    "\n",
    "# limit the length of the data frame to the past 6 months\n",
    "today = pd.Timestamp.today()\n",
    "six_months_ago = today - pd.Timedelta(days=365//2)\n",
    "df = df.loc[six_months_ago:today]"
   ]
  },
  {
   "cell_type": "markdown",
   "metadata": {},
   "source": [
    "Q6. What is the definition of a 180-day moving average?"
   ]
  },
  {
   "cell_type": "markdown",
   "metadata": {},
   "source": [
    "Ans :\n",
    "\n",
    "A 180-day moving average is a statistical calculation that represents the average value of a stock or other financial instrument over the last 180 trading days. It is calculated by summing up the prices of the instrument over the past 180 days and dividing by 180. This average helps to smooth out short-term fluctuations in the price of the instrument, making it easier to identify trends over a longer time period."
   ]
  },
  {
   "cell_type": "markdown",
   "metadata": {},
   "source": [
    "Q7. Did the chapter's final example use &quot;indirect&quot; importing? If so, how exactly do you do it?"
   ]
  },
  {
   "cell_type": "markdown",
   "metadata": {},
   "source": [
    "Ans :\n",
    "\n",
    "The chapter's final example did not mention or use \"indirect\" importing. Indirect importing refers to the practice of importing a module into a local namespace and then referring to the imported module's contents through that local namespace, rather than directly accessing the imported module's contents."
   ]
  },
  {
   "cell_type": "code",
   "execution_count": null,
   "metadata": {},
   "outputs": [],
   "source": []
  },
  {
   "cell_type": "code",
   "execution_count": null,
   "metadata": {},
   "outputs": [],
   "source": []
  },
  {
   "cell_type": "code",
   "execution_count": null,
   "metadata": {},
   "outputs": [],
   "source": []
  },
  {
   "cell_type": "code",
   "execution_count": null,
   "metadata": {},
   "outputs": [],
   "source": []
  },
  {
   "cell_type": "code",
   "execution_count": null,
   "metadata": {},
   "outputs": [],
   "source": []
  }
 ],
 "metadata": {
  "kernelspec": {
   "display_name": "Python 3",
   "language": "python",
   "name": "python3"
  },
  "language_info": {
   "codemirror_mode": {
    "name": "ipython",
    "version": 3
   },
   "file_extension": ".py",
   "mimetype": "text/x-python",
   "name": "python",
   "nbconvert_exporter": "python",
   "pygments_lexer": "ipython3",
   "version": "3.7.6"
  }
 },
 "nbformat": 4,
 "nbformat_minor": 4
}
