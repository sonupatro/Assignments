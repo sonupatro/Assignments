{
 "cells": [
  {
   "cell_type": "markdown",
   "metadata": {},
   "source": [
    "# Python Basic Assignment"
   ]
  },
  {
   "cell_type": "markdown",
   "metadata": {},
   "source": [
    "# Assignment 12"
   ]
  },
  {
   "cell_type": "raw",
   "metadata": {},
   "source": [
    "1.In what modes should the PdfFileReader() and PdfFileWriter() File objects will be opened?\n",
    "Ans-\n",
    "PdfFileReader() should be opened in read-binary mode. PdfFileWriter() should be opened in write-binary mode.\n",
    "\n",
    "2.From a PdfFileReader object, how do you get a Page object for page 5?\n",
    "Ans-\n",
    "PdfFileReader.getPage(5)\n",
    "\n",
    "3.What PdfFileReader variable stores the number of pages in the PDF document?\n",
    "Ans-\n",
    "numPages\n",
    "\n",
    "4.If a PdfFileReader object’s PDF is encrypted with the password swordfish, what must you do before you can obtain Page objects from it?\n",
    "Ans-\n",
    "obj.decrypt(\"swordfish\")\n",
    "\n",
    "5.What methods do you use to rotate a page?\n",
    "Ans-\n",
    "rotateClockwise() and rotateCounterClockwise()\n",
    "\n",
    "6.What is the difference between a Run object and a Paragraph object?\n",
    "Ans-\n",
    "paragraps object is needed to get paragraph from a document, runs object is needed whenever text style changes in a paragraph.\n",
    "\n",
    "7.How do you obtain a list of Paragraph objects for a Document object that’s stored in a variable named doc?\n",
    "Ans-\n",
    "doc.paragraphs\n",
    "\n",
    "8.What type of object has bold, underline, italic, strike, and outline variables?\n",
    "Ans-\n",
    "runs\n",
    "\n",
    "9.What is the difference between False, True, and None for the bold variable?\n",
    "Ans-\n",
    "True = bold is always enabled no matter what other styles are applied to the run, False = bold is always disabled, None = defaults to whatever the run's style set to\n",
    "\n",
    "10.How do you create a Document object for a new Word document?\n",
    "Ans-\n",
    "import docx\n",
    "\n",
    "doc=docx.Document(.docx file name)\n",
    "\n",
    "11.How do you add a paragraph with the text 'Hello, there!' to a Document object stored in a variable named doc?\n",
    "Ans-\n",
    "doc.add_paragraph(\"Hello, there!\")\n",
    "\n",
    "12.What integers represent the levels of headings available in Word documents?\n",
    "Ans-\n",
    "0 to 4"
   ]
  },
  {
   "cell_type": "code",
   "execution_count": null,
   "metadata": {},
   "outputs": [],
   "source": []
  }
 ],
 "metadata": {
  "kernelspec": {
   "display_name": "Python 3",
   "language": "python",
   "name": "python3"
  },
  "language_info": {
   "codemirror_mode": {
    "name": "ipython",
    "version": 3
   },
   "file_extension": ".py",
   "mimetype": "text/x-python",
   "name": "python",
   "nbconvert_exporter": "python",
   "pygments_lexer": "ipython3",
   "version": "3.7.6"
  }
 },
 "nbformat": 4,
 "nbformat_minor": 4
}
