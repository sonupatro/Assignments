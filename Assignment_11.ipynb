{
 "cells": [
  {
   "cell_type": "markdown",
   "metadata": {},
   "source": [
    "# Pyton Basic Assignment"
   ]
  },
  {
   "cell_type": "markdown",
   "metadata": {},
   "source": [
    "# Assignment 11"
   ]
  },
  {
   "cell_type": "raw",
   "metadata": {},
   "source": [
    "1.Create an assert statement that throws an AssertionError if the variable spam is a negative integer.\n",
    "Ans-\n",
    "assert spam > 0, \"Negative not allowed!\"\n",
    "\n",
    "2.Write an assert statement that triggers an AssertionError if the variables eggs and bacon contain strings that are the same as each other, even if their cases are different (that is, 'hello' and 'hello' are considered the same, and 'goodbye' and 'GOODbye' are also considered the same).\n",
    "Ans-\n",
    "assert eggs.lower()!=bacon.lower(), \"eggs and bacon shouldn't be same!\"\n",
    "\n",
    "3.Create an assert statement that throws an AssertionError every time.\n",
    "Ans-\n",
    "assert False\n",
    "\n",
    "4.What are the two lines that must be present in your software in order to call logging.debug()?\n",
    "Ans-\n",
    "import logging\n",
    "\n",
    "logging.basicConfig(fiename, level=logging.DEBUG)\n",
    "\n",
    "5.What are the two lines that your program must have in order to have logging.debug() send a logging message to a file named programLog.txt?\n",
    "Ans-\n",
    "import logging\n",
    "\n",
    "logging.basicConfig(fiename, level=logging.DEBUG)\n",
    "\n",
    "6.What are the five levels of logging?\n",
    "Ans-\n",
    "logging.error()\n",
    "\n",
    "logging.warning()\n",
    "\n",
    "logging.info()\n",
    "\n",
    "logging.critical()\n",
    "\n",
    "logging.debug()\n",
    "\n",
    "7.What line of code would you add to your software to disable all logging messages?\n",
    "Ans-\n",
    "logging.disable(level)\n",
    "\n",
    "8.Why is using logging messages better than using print() to display the same message?\n",
    "Ans-\n",
    "It helps to see where and when a logging call is being made from\n",
    "\n",
    "we can differentiate logging based on severity\n",
    "\n",
    "print does not have any of them\n",
    "\n",
    "9.What are the differences between the Step Over, Step In, and Step Out buttons in the debugger?\n",
    "Ans-\n",
    "Step In will dig into method calls.\n",
    "\n",
    "Step Over will just execute the line and go to the next line.\n",
    "\n",
    "Step Out Steps out of the current method and takes you to the caller method.\n",
    "\n",
    "10.After you click Continue, when will the debugger stop ?\n",
    "Ans-\n",
    "when it has reached the end of a program or a breakpoint\n",
    "\n",
    "11.What is the concept of a breakpoint?\n",
    "Ans-\n",
    "An intentional stopping point or pause put into program for debugging purpose."
   ]
  },
  {
   "cell_type": "code",
   "execution_count": null,
   "metadata": {},
   "outputs": [],
   "source": []
  }
 ],
 "metadata": {
  "kernelspec": {
   "display_name": "Python 3",
   "language": "python",
   "name": "python3"
  },
  "language_info": {
   "codemirror_mode": {
    "name": "ipython",
    "version": 3
   },
   "file_extension": ".py",
   "mimetype": "text/x-python",
   "name": "python",
   "nbconvert_exporter": "python",
   "pygments_lexer": "ipython3",
   "version": "3.7.6"
  }
 },
 "nbformat": 4,
 "nbformat_minor": 4
}
