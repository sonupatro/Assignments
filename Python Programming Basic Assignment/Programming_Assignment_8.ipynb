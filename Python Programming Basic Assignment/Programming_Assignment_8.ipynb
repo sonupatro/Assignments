{
 "cells": [
  {
   "cell_type": "markdown",
   "metadata": {},
   "source": [
    "1. Write a Python Program to Add Two Matrices?"
   ]
  },
  {
   "cell_type": "code",
   "execution_count": 1,
   "metadata": {},
   "outputs": [],
   "source": [
    "def add(a,b):\n",
    "    print(f'Inputs: {a},{b}')\n",
    "    if len(a) == len(b):\n",
    "        output = []\n",
    "        for i in range(len(a)):\n",
    "            if len(a[i]) == len(b[i]):\n",
    "                output.append([])\n",
    "                for j in range(len(a[i])):\n",
    "                    output[i].append(a[i][j]+b[i][j])\n",
    "            else:\n",
    "                print('Enter same no of rows and columns') \n",
    "    else:\n",
    "        print('Enter same no of rows and columns')\n",
    "    print(f'Output: {output}')"
   ]
  },
  {
   "cell_type": "code",
   "execution_count": 2,
   "metadata": {},
   "outputs": [
    {
     "name": "stdout",
     "output_type": "stream",
     "text": [
      "Inputs: [[2, 3, 4], [6, 7, 8], [9, 8, 7]],[[33, 67, 58], [3, 4, 5], [23, 45, 78]]\n",
      "Output: [[35, 70, 62], [9, 11, 13], [32, 53, 85]]\n"
     ]
    }
   ],
   "source": [
    "add([[2,3,4],[6,7,8],[9,8,7]],\n",
    "   [[33,67,58],[3,4,5],[23,45,78]])"
   ]
  },
  {
   "cell_type": "markdown",
   "metadata": {},
   "source": [
    "2. Write a Python Program to Multiply Two Matrices?"
   ]
  },
  {
   "cell_type": "code",
   "execution_count": 3,
   "metadata": {},
   "outputs": [
    {
     "name": "stdout",
     "output_type": "stream",
     "text": [
      "[47, 25, 21, 17]\n",
      "[113, 67, 60, 53]\n",
      "[624, 350, 307, 264]\n"
     ]
    }
   ],
   "source": [
    "# Take 3x3 matrix\n",
    "A = [[1, 2, 3],\n",
    "    [4, 5, 6],\n",
    "    [17, 9, 51]]\n",
    "\n",
    "B = [[6, 7, 8, 9],\n",
    "    [7, 3, 2, 1],\n",
    "    [9, 4, 3, 2]]\n",
    "\n",
    "output = [[0, 0, 0, 0],\n",
    "        [0, 0, 0, 0],\n",
    "        [0, 0, 0, 0]]\n",
    "\n",
    "for i in range(len(A)):\n",
    "    for j in range(len(B[0])):\n",
    "        for k in range(len(B)):\n",
    "            output[i][j] += A[i][k] * B[k][j]\n",
    "\n",
    "for r in output:\n",
    "    print(r)"
   ]
  },
  {
   "cell_type": "markdown",
   "metadata": {},
   "source": [
    "3. Write a Python Program to Transpose a Matrix?"
   ]
  },
  {
   "cell_type": "code",
   "execution_count": 4,
   "metadata": {},
   "outputs": [
    {
     "name": "stdout",
     "output_type": "stream",
     "text": [
      "[4, 1, 3]\n",
      "[5, 2, 6]\n"
     ]
    }
   ],
   "source": [
    "X = [[4,5],\n",
    "    [1 ,2],\n",
    "    [3 ,6]]\n",
    "\n",
    "output = [[0,0,0],\n",
    "         [0,0,0]]\n",
    "\n",
    "for i in range(len(X)):\n",
    "    for j in range(len(X[0])):\n",
    "        output[j][i] = X[i][j]\n",
    "\n",
    "for r in output:\n",
    "    print(r)"
   ]
  },
  {
   "cell_type": "markdown",
   "metadata": {},
   "source": [
    "4. Write a Python Program to Sort Words in Alphabetic Order?"
   ]
  },
  {
   "cell_type": "code",
   "execution_count": 5,
   "metadata": {},
   "outputs": [
    {
     "name": "stdout",
     "output_type": "stream",
     "text": [
      "Sorted order of words:\n",
      "evening good hii home my to welcome "
     ]
    }
   ],
   "source": [
    "s='hii good evening welcome to my home'\n",
    "word=s.lower().split()\n",
    "word.sort()\n",
    "print(\"Sorted order of words:\")\n",
    "for word in word:\n",
    "    print(word, end = ' ')"
   ]
  },
  {
   "cell_type": "markdown",
   "metadata": {},
   "source": [
    "5. Write a Python Program to Remove Punctuation From a String?"
   ]
  },
  {
   "cell_type": "code",
   "execution_count": 7,
   "metadata": {},
   "outputs": [
    {
     "name": "stdout",
     "output_type": "stream",
     "text": [
      "Enter the string: Hi ..... Good ^&%$ Morning!!!!\n",
      "Hi  Good  Morning\n"
     ]
    }
   ],
   "source": [
    "punctuations = '''!()-[]{};:'\"\\,<>./?@#$%^&*_~'''\n",
    "\n",
    "string = input(\"Enter the string: \")\n",
    "\n",
    "no_punc = \"\"\n",
    "\n",
    "for ch in string:\n",
    "    if ch not in punctuations:\n",
    "        no_punc = no_punc+ch\n",
    "        \n",
    "print(no_punc)"
   ]
  },
  {
   "cell_type": "code",
   "execution_count": null,
   "metadata": {},
   "outputs": [],
   "source": []
  },
  {
   "cell_type": "code",
   "execution_count": null,
   "metadata": {},
   "outputs": [],
   "source": []
  }
 ],
 "metadata": {
  "kernelspec": {
   "display_name": "Python 3",
   "language": "python",
   "name": "python3"
  },
  "language_info": {
   "codemirror_mode": {
    "name": "ipython",
    "version": 3
   },
   "file_extension": ".py",
   "mimetype": "text/x-python",
   "name": "python",
   "nbconvert_exporter": "python",
   "pygments_lexer": "ipython3",
   "version": "3.7.6"
  }
 },
 "nbformat": 4,
 "nbformat_minor": 4
}
