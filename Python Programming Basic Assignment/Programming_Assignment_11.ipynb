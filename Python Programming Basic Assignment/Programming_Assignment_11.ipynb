{
 "cells": [
  {
   "cell_type": "markdown",
   "id": "4e092c2c",
   "metadata": {},
   "source": [
    "# Python Basic Programming Assignment 11\n",
    "--------------------"
   ]
  },
  {
   "cell_type": "markdown",
   "id": "98114fe3",
   "metadata": {},
   "source": [
    "### 1. Write a Python program to find words which are greater than given length k?"
   ]
  },
  {
   "cell_type": "code",
   "execution_count": 3,
   "id": "829e3865",
   "metadata": {},
   "outputs": [],
   "source": [
    "def check(list_of_words: list, k: int):\n",
    "    output = []\n",
    "    for i in list_of_words:\n",
    "        if len(i) > k:\n",
    "            output.append(i)\n",
    "            \n",
    "    return output"
   ]
  },
  {
   "cell_type": "code",
   "execution_count": 7,
   "id": "17da42b1",
   "metadata": {},
   "outputs": [],
   "source": [
    "list_of_words = ['red','orange','pink','blue','rainbow','yellow']\n",
    "k = 5"
   ]
  },
  {
   "cell_type": "markdown",
   "id": "bb38639d",
   "metadata": {},
   "source": [
    "check(list_of_words, k)"
   ]
  },
  {
   "cell_type": "markdown",
   "id": "5860aab6",
   "metadata": {},
   "source": [
    "### 2. Write a Python program for removing i-th character from a string?"
   ]
  },
  {
   "cell_type": "code",
   "execution_count": 9,
   "id": "832be67e",
   "metadata": {},
   "outputs": [],
   "source": [
    "def remove(string: str, i):\n",
    "    string = string.replace(string[i], '')\n",
    "    return string"
   ]
  },
  {
   "cell_type": "code",
   "execution_count": 10,
   "id": "ea707a4e",
   "metadata": {},
   "outputs": [
    {
     "data": {
      "text/plain": [
       "'dhanhri'"
      ]
     },
     "execution_count": 10,
     "metadata": {},
     "output_type": "execute_result"
    }
   ],
   "source": [
    "remove('dhanshri', 4)"
   ]
  },
  {
   "cell_type": "markdown",
   "id": "a0bba6de",
   "metadata": {},
   "source": [
    "### 3. Write a Python program to split and join a string?"
   ]
  },
  {
   "cell_type": "code",
   "execution_count": 17,
   "id": "4e33287b",
   "metadata": {},
   "outputs": [
    {
     "name": "stdout",
     "output_type": "stream",
     "text": [
      "['hello', 'good', 'morning', 'welcome', 'to', 'shine', 'cafe']\n",
      "hello good morning welcome to shine cafe\n"
     ]
    }
   ],
   "source": [
    "str = \"hello good morning welcome to shine cafe\"\n",
    "\n",
    "split = str.split(' ')\n",
    "print(split)\n",
    "\n",
    "join = \" \".join(split)\n",
    "print(join)"
   ]
  },
  {
   "cell_type": "markdown",
   "id": "ea2c4c31",
   "metadata": {},
   "source": [
    "### 4. Write a Python to check if a given string is binary string or not?"
   ]
  },
  {
   "cell_type": "code",
   "execution_count": 15,
   "id": "81e313a6",
   "metadata": {},
   "outputs": [
    {
     "name": "stdout",
     "output_type": "stream",
     "text": [
      "Enter the string: 20\n",
      "Not Binary\n"
     ]
    }
   ],
   "source": [
    "string = input(\"Enter the string: \")\n",
    "binary = ['0', '1']\n",
    "\n",
    "is_binary = True\n",
    "for i in string:\n",
    "    if i not in binary:\n",
    "        is_binary = False\n",
    "    \n",
    "if is_binary:\n",
    "    print(\"Binary\")\n",
    "else:\n",
    "    print(\"Not Binary\")"
   ]
  },
  {
   "cell_type": "markdown",
   "id": "40459451",
   "metadata": {},
   "source": [
    "### 5. Write a Python program to find uncommon words from two Strings?"
   ]
  },
  {
   "cell_type": "code",
   "execution_count": 16,
   "id": "81129e06",
   "metadata": {},
   "outputs": [],
   "source": [
    "def test(s1, s2):\n",
    "    \n",
    "    s1 = s1.split(' ')\n",
    "    s2 = s2.split(' ')\n",
    "    uncommon = []\n",
    "    \n",
    "    for i in set(s1):\n",
    "        if i not in s2:\n",
    "            uncommon.append(i)\n",
    "\n",
    "    for i in set(s2):\n",
    "        if i not in s1:\n",
    "            uncommon.append(i)\n",
    "            \n",
    "    return uncommon"
   ]
  },
  {
   "cell_type": "code",
   "execution_count": 18,
   "id": "aa12c7f3",
   "metadata": {},
   "outputs": [],
   "source": [
    "s1=\"hello good morning welcome to shine cafe\"\n",
    "s2=\"please visit again thank you\""
   ]
  },
  {
   "cell_type": "code",
   "execution_count": 19,
   "id": "b610714c",
   "metadata": {},
   "outputs": [
    {
     "data": {
      "text/plain": [
       "['welcome',\n",
       " 'to',\n",
       " 'good',\n",
       " 'hello',\n",
       " 'cafe',\n",
       " 'shine',\n",
       " 'morning',\n",
       " 'visit',\n",
       " 'again',\n",
       " 'please',\n",
       " 'thank',\n",
       " 'you']"
      ]
     },
     "execution_count": 19,
     "metadata": {},
     "output_type": "execute_result"
    }
   ],
   "source": [
    "test(s1,s2)"
   ]
  },
  {
   "cell_type": "markdown",
   "id": "57c9cecb",
   "metadata": {},
   "source": [
    "### 6. Write a Python to find all duplicate characters in string?"
   ]
  },
  {
   "cell_type": "code",
   "execution_count": 20,
   "id": "bdc14d49",
   "metadata": {},
   "outputs": [],
   "source": [
    "def charat(s: str):\n",
    "    duplicate = []\n",
    "    for i in s:\n",
    "        if s.count(i) > 1:\n",
    "            duplicate.append(i)\n",
    "            \n",
    "    return set(duplicate)"
   ]
  },
  {
   "cell_type": "code",
   "execution_count": 21,
   "id": "ea46c1e6",
   "metadata": {},
   "outputs": [
    {
     "data": {
      "text/plain": [
       "{' ', 'c', 'e', 'g', 'h', 'i', 'l', 'm', 'n', 'o'}"
      ]
     },
     "execution_count": 21,
     "metadata": {},
     "output_type": "execute_result"
    }
   ],
   "source": [
    "charat(\"hello good morning welcome to shine cafe\")"
   ]
  },
  {
   "cell_type": "markdown",
   "id": "54acce20",
   "metadata": {},
   "source": [
    "### 7. Write a Python Program to check if a string contains any special character?"
   ]
  },
  {
   "cell_type": "code",
   "execution_count": 24,
   "id": "278294e8",
   "metadata": {},
   "outputs": [
    {
     "name": "stdout",
     "output_type": "stream",
     "text": [
      "Enter a string: welcome to shine cafe\"%\n",
      "string contains special characters\n"
     ]
    }
   ],
   "source": [
    "import re\n",
    "\n",
    "\n",
    "string = input(\"Enter a string: \")\n",
    "regex = re.compile('[@_!#$%^&*()<>?/\\|}{~:]')  \n",
    "\n",
    "if(regex.search(string) == None):\n",
    "    print(\"no special characters\")\n",
    "else:\n",
    "    print(\"string contains special characters\")"
   ]
  },
  {
   "cell_type": "code",
   "execution_count": null,
   "id": "a27a2ace",
   "metadata": {},
   "outputs": [],
   "source": []
  }
 ],
 "metadata": {
  "kernelspec": {
   "display_name": "Python 3",
   "language": "python",
   "name": "python3"
  },
  "language_info": {
   "codemirror_mode": {
    "name": "ipython",
    "version": 3
   },
   "file_extension": ".py",
   "mimetype": "text/x-python",
   "name": "python",
   "nbconvert_exporter": "python",
   "pygments_lexer": "ipython3",
   "version": "3.8.8"
  }
 },
 "nbformat": 4,
 "nbformat_minor": 5
}
