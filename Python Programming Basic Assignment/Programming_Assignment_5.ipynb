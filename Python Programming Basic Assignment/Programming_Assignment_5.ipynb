{
 "cells": [
  {
   "cell_type": "markdown",
   "metadata": {},
   "source": [
    "1. Write a Python Program to Find LCM?"
   ]
  },
  {
   "cell_type": "code",
   "execution_count": 1,
   "metadata": {},
   "outputs": [
    {
     "name": "stdout",
     "output_type": "stream",
     "text": [
      "Enter 1st num\n",
      "44\n",
      "Enter 2nd num\n",
      "78\n",
      "LCM of 44 and 78 is 1716\n"
     ]
    }
   ],
   "source": [
    "a=int(input(\"Enter 1st num\\n\"))\n",
    "b=int(input(\"Enter 2nd num\\n\"))\n",
    "\n",
    "maxnum=max(a,b)\n",
    "while(True):\n",
    "    if(maxnum%a==0 and maxnum%b==0):\n",
    "        break\n",
    "    maxnum=maxnum+1\n",
    "    \n",
    "print(f\"LCM of {a} and {b} is {maxnum}\")"
   ]
  },
  {
   "cell_type": "markdown",
   "metadata": {},
   "source": [
    "2. Write a Python Program to Find HCF?"
   ]
  },
  {
   "cell_type": "code",
   "execution_count": 2,
   "metadata": {},
   "outputs": [
    {
     "name": "stdout",
     "output_type": "stream",
     "text": [
      "Enter 1st num\n",
      "24\n",
      "Enter 2nd num\n",
      "88\n",
      "HCF is  8\n"
     ]
    }
   ],
   "source": [
    "num1=int(input(\"Enter 1st num\\n\"))\n",
    "num2=int(input(\"Enter 2nd num\\n\"))\n",
    "\n",
    "if num2>num1:\n",
    "    mn=num1\n",
    "else:\n",
    "    mn=num2\n",
    "    \n",
    "for i in range(1,mn+1):\n",
    "    if num1%i==0 and num2%i==0:\n",
    "        hcf=i\n",
    "        \n",
    "print(\"HCF is \",hcf)"
   ]
  },
  {
   "cell_type": "markdown",
   "metadata": {},
   "source": [
    "3. Write a Python Program to Convert Decimal to Binary, Octal and Hexadecimal?"
   ]
  },
  {
   "cell_type": "code",
   "execution_count": 3,
   "metadata": {},
   "outputs": [],
   "source": [
    "def conversion(num):\n",
    "    print(\"Binary:      \", bin(num))\n",
    "    print(\"Octal:       \", oct(num))\n",
    "    print(\"Hexadecimal: \", hex(num))"
   ]
  },
  {
   "cell_type": "code",
   "execution_count": 4,
   "metadata": {},
   "outputs": [
    {
     "name": "stdout",
     "output_type": "stream",
     "text": [
      "Binary:       0b110\n",
      "Octal:        0o6\n",
      "Hexadecimal:  0x6\n"
     ]
    }
   ],
   "source": [
    "conversion(6)"
   ]
  },
  {
   "cell_type": "code",
   "execution_count": 5,
   "metadata": {},
   "outputs": [
    {
     "name": "stdout",
     "output_type": "stream",
     "text": [
      "Binary:       0b11101111\n",
      "Octal:        0o357\n",
      "Hexadecimal:  0xef\n"
     ]
    }
   ],
   "source": [
    "conversion(239)"
   ]
  },
  {
   "cell_type": "markdown",
   "metadata": {},
   "source": [
    "4. Write a Python Program To Find ASCII value of a character?"
   ]
  },
  {
   "cell_type": "code",
   "execution_count": 6,
   "metadata": {},
   "outputs": [
    {
     "name": "stdout",
     "output_type": "stream",
     "text": [
      "Enter a character: s\n",
      "ASCII value of s is 115\n"
     ]
    }
   ],
   "source": [
    "try:\n",
    "    char = input(\"Enter a character: \")\n",
    "    ASCII = ord(char)\n",
    "    print(\"ASCII value of {} is {}\".format(char, ASCII))\n",
    "except Exception as e:\n",
    "    print(e)"
   ]
  },
  {
   "cell_type": "markdown",
   "metadata": {},
   "source": [
    "5. Write a Python Program to Make a Simple Calculator with 4 basic mathematical operations?"
   ]
  },
  {
   "cell_type": "code",
   "execution_count": 9,
   "metadata": {},
   "outputs": [
    {
     "name": "stdout",
     "output_type": "stream",
     "text": [
      "Enter first number: 5\n",
      "Enter second number: 10\n",
      "\n",
      "For addition:       +\n",
      "For subtraction:    -\n",
      "For multiplicaton:  *\n",
      "For division:       /\n",
      "For Exit:            X\n",
      "\n",
      "Enter the mathematical operations: /\n",
      "output 0.5\n"
     ]
    }
   ],
   "source": [
    "        num1 = int(input(\"Enter first number: \"))\n",
    "        num2 = int(input(\"Enter second number: \"))\n",
    "        \n",
    "        print(\"\\nFor addition:       +\")\n",
    "        print(\"For subtraction:    -\")\n",
    "        print(\"For multiplicaton:  *\")\n",
    "        print(\"For division:       /\")\n",
    "        print(\"For Exit:            X\")\n",
    "        \n",
    "        Operation = input(\"\\nEnter the mathematical operations: \")\n",
    "        \n",
    "        \n",
    "        if Operation == '+':\n",
    "            output = num1 + num2\n",
    "            print(\"output\",output)\n",
    "        elif Operation == '-':\n",
    "            output = num1 - num2\n",
    "            print(\"output\",output)\n",
    "        elif Operation == '*':\n",
    "            output = num1 * num2\n",
    "            print(\"output\",output)\n",
    "        elif Operation == '/':\n",
    "            output = num1 / num2\n",
    "            print(\"output\",output)\n",
    "        else:\n",
    "            print(\"Invalid option\")"
   ]
  },
  {
   "cell_type": "code",
   "execution_count": null,
   "metadata": {},
   "outputs": [],
   "source": []
  }
 ],
 "metadata": {
  "kernelspec": {
   "display_name": "Python 3",
   "language": "python",
   "name": "python3"
  },
  "language_info": {
   "codemirror_mode": {
    "name": "ipython",
    "version": 3
   },
   "file_extension": ".py",
   "mimetype": "text/x-python",
   "name": "python",
   "nbconvert_exporter": "python",
   "pygments_lexer": "ipython3",
   "version": "3.7.6"
  }
 },
 "nbformat": 4,
 "nbformat_minor": 4
}
