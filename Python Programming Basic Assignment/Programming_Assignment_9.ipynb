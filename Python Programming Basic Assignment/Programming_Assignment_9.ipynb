{
 "cells": [
  {
   "cell_type": "markdown",
   "metadata": {},
   "source": [
    "1. Write a Python program to check if the given number is a Disarium Number?"
   ]
  },
  {
   "cell_type": "code",
   "execution_count": 1,
   "metadata": {},
   "outputs": [
    {
     "name": "stdout",
     "output_type": "stream",
     "text": [
      "enter number : 51\n",
      "count= 2\n",
      "51 is not a Disarium Number\n"
     ]
    }
   ],
   "source": [
    "n=int(input(\"enter number : \"))\n",
    "temp=n\n",
    "x=n\n",
    "#finding position\n",
    "\n",
    "count=0\n",
    "while temp>0:\n",
    "    temp=temp//10\n",
    "    count=count+1\n",
    "print(\"count=\",count)\n",
    "sum=0\n",
    "while x>0:\n",
    "    rem=x%10     #individual digit\n",
    "    sum=sum+rem**count\n",
    "    x=x//10\n",
    "    count=count-1\n",
    "if sum==n:\n",
    "    print(n,'is a Disarium Number')\n",
    "else:\n",
    "    print(n,'is not a Disarium Number')"
   ]
  },
  {
   "cell_type": "markdown",
   "metadata": {},
   "source": [
    "2. Write a Python program to print all disarium numbers between 1 to 100?"
   ]
  },
  {
   "cell_type": "code",
   "execution_count": 2,
   "metadata": {},
   "outputs": [
    {
     "data": {
      "text/plain": [
       "[1, 2, 3, 4, 5, 6, 7, 8, 9, 89]"
      ]
     },
     "execution_count": 2,
     "metadata": {},
     "output_type": "execute_result"
    }
   ],
   "source": [
    "def DisariumNumbers(start=0,end=100):\n",
    "    output = []\n",
    "    for number in range(start,end+1):\n",
    "        sum = 0\n",
    "        for item in range(len(str(number))):\n",
    "            sum = sum + int(str(number)[item])**(item+1)\n",
    "        if sum == number:\n",
    "            output.append(number)\n",
    "    return output\n",
    "            \n",
    "        \n",
    "DisariumNumbers(1,100)"
   ]
  },
  {
   "cell_type": "markdown",
   "metadata": {},
   "source": [
    "3. Write a Python program to check if the given number is Happy Number?"
   ]
  },
  {
   "cell_type": "code",
   "execution_count": 3,
   "metadata": {},
   "outputs": [],
   "source": [
    "def check(n):\n",
    "\n",
    "    res = n; \n",
    "    def isHappy(n):    \n",
    "        r = 0;  \n",
    "        s = 0\n",
    "        while(n > 0):    \n",
    "            r = n%10    \n",
    "            s += r**2  \n",
    "            n //= 10    \n",
    "        return s     \n",
    "\n",
    "    while(res != 1 and res != 4):    \n",
    "        res = isHappy(res)    \n",
    "\n",
    "    if(res == 1):    \n",
    "        return True\n",
    "    elif(res == 4):    \n",
    "        return False"
   ]
  },
  {
   "cell_type": "code",
   "execution_count": 4,
   "metadata": {},
   "outputs": [
    {
     "data": {
      "text/plain": [
       "False"
      ]
     },
     "execution_count": 4,
     "metadata": {},
     "output_type": "execute_result"
    }
   ],
   "source": [
    "check(90)"
   ]
  },
  {
   "cell_type": "code",
   "execution_count": 5,
   "metadata": {},
   "outputs": [],
   "source": [
    "def check(n):\n",
    "\n",
    "    x = n; \n",
    "    def isHappy(n):    \n",
    "        r = 0;  \n",
    "        sum = 0\n",
    "        while(n > 0):    \n",
    "            r = n%10    \n",
    "            sum += r**2  \n",
    "            n //= 10    \n",
    "        return sum     \n",
    "\n",
    "    while(x != 1 and x != 4):    \n",
    "        x = isHappy(x)    \n",
    "\n",
    "    if(x == 1):    \n",
    "        return True\n",
    "    elif(x == 4):    \n",
    "        return False"
   ]
  },
  {
   "cell_type": "code",
   "execution_count": 6,
   "metadata": {},
   "outputs": [
    {
     "data": {
      "text/plain": [
       "True"
      ]
     },
     "execution_count": 6,
     "metadata": {},
     "output_type": "execute_result"
    }
   ],
   "source": [
    "check(100)"
   ]
  },
  {
   "cell_type": "markdown",
   "metadata": {},
   "source": [
    "4. Write a Python program to print all happy numbers between 1 and 100?"
   ]
  },
  {
   "cell_type": "code",
   "execution_count": 7,
   "metadata": {},
   "outputs": [
    {
     "name": "stdout",
     "output_type": "stream",
     "text": [
      "1 7 10 13 19 23 28 31 32 44 49 68 70 79 82 86 91 94 97 100 "
     ]
    }
   ],
   "source": [
    "for i in range(1, 101):\n",
    "    if check(i) == True:\n",
    "        print(i, end = ' ')"
   ]
  },
  {
   "cell_type": "markdown",
   "metadata": {},
   "source": [
    "5. Write a Python program to determine whether the given number is a Harshad Number?"
   ]
  },
  {
   "cell_type": "code",
   "execution_count": 8,
   "metadata": {},
   "outputs": [],
   "source": [
    "def check_n(n):\n",
    "    temp = n\n",
    "    total = 0\n",
    "    while (temp > 0):\n",
    "        total = total + (temp%10)\n",
    "        temp = temp//10\n",
    "        \n",
    "    if n%total==0:\n",
    "        print(\"Harshad Number\")\n",
    "    else:\n",
    "        print(\"Not Harshad Number\")"
   ]
  },
  {
   "cell_type": "code",
   "execution_count": 9,
   "metadata": {},
   "outputs": [
    {
     "name": "stdout",
     "output_type": "stream",
     "text": [
      "Harshad Number\n"
     ]
    }
   ],
   "source": [
    "check_n(24)"
   ]
  },
  {
   "cell_type": "code",
   "execution_count": 10,
   "metadata": {},
   "outputs": [
    {
     "name": "stdout",
     "output_type": "stream",
     "text": [
      "Not Harshad Number\n"
     ]
    }
   ],
   "source": [
    "check_n(35)"
   ]
  },
  {
   "cell_type": "markdown",
   "metadata": {},
   "source": [
    "6. Write a Python program to print all pronic numbers between 1 and 100?"
   ]
  },
  {
   "cell_type": "code",
   "execution_count": 12,
   "metadata": {},
   "outputs": [
    {
     "name": "stdout",
     "output_type": "stream",
     "text": [
      "0 2 6 12 20 30 42 56 72 90 "
     ]
    }
   ],
   "source": [
    "i = 0\n",
    "while True:\n",
    "    pronic = i*(i+1)\n",
    "    i = i + 1\n",
    "    if pronic > 100:\n",
    "        break\n",
    "    print(pronic, end = ' ')"
   ]
  },
  {
   "cell_type": "code",
   "execution_count": null,
   "metadata": {},
   "outputs": [],
   "source": []
  }
 ],
 "metadata": {
  "kernelspec": {
   "display_name": "Python 3",
   "language": "python",
   "name": "python3"
  },
  "language_info": {
   "codemirror_mode": {
    "name": "ipython",
    "version": 3
   },
   "file_extension": ".py",
   "mimetype": "text/x-python",
   "name": "python",
   "nbconvert_exporter": "python",
   "pygments_lexer": "ipython3",
   "version": "3.7.6"
  }
 },
 "nbformat": 4,
 "nbformat_minor": 4
}
