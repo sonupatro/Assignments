{
 "cells": [
  {
   "cell_type": "markdown",
   "metadata": {},
   "source": [
    "# Python Basic Assignment"
   ]
  },
  {
   "cell_type": "markdown",
   "metadata": {},
   "source": [
    "# Assignment 13"
   ]
  },
  {
   "cell_type": "raw",
   "metadata": {},
   "source": [
    "1.What advantages do Excel spreadsheets have over CSV spreadsheets?\n",
    "Ans-\n",
    "Reading large dataset is much easier in excel compared to csv, Excel provides the option for linking the data from external sources but no such feature available in csv.\n",
    "\n",
    "2.What do you pass to csv.reader() and csv.writer() to create reader and writer objects?\n",
    "Ans-\n",
    "file object\n",
    "\n",
    "3.What modes do File objects for reader and writer objects need to be opened in?\n",
    "Ans-\n",
    "'r'(read mode) for reader objects and 'w'(write mode) for writer objects\n",
    "\n",
    "4.What method takes a list argument and writes it to a CSV file?\n",
    "Ans-\n",
    "writerow() method of csv.writer()\n",
    "\n",
    "5.What do the keyword arguments delimiter and line terminator do?\n",
    "Ans-\n",
    "delimiter sets the character between cells on a row. line terminator sets the character that comes at the end of a row.\n",
    "\n",
    "6.What function takes a string of JSON data and returns a Python data structure?\n",
    "Ans-\n",
    "json.loads()\n",
    "\n",
    "7.What function takes a Python data structure and returns a string of JSON data?\n",
    "Ans-\n",
    "json.dumps()"
   ]
  },
  {
   "cell_type": "code",
   "execution_count": null,
   "metadata": {},
   "outputs": [],
   "source": []
  }
 ],
 "metadata": {
  "kernelspec": {
   "display_name": "Python 3",
   "language": "python",
   "name": "python3"
  },
  "language_info": {
   "codemirror_mode": {
    "name": "ipython",
    "version": 3
   },
   "file_extension": ".py",
   "mimetype": "text/x-python",
   "name": "python",
   "nbconvert_exporter": "python",
   "pygments_lexer": "ipython3",
   "version": "3.7.6"
  }
 },
 "nbformat": 4,
 "nbformat_minor": 4
}
