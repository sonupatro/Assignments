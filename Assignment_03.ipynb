{
 "cells": [
  {
   "cell_type": "markdown",
   "metadata": {},
   "source": [
    "# Python Basic Assignment"
   ]
  },
  {
   "cell_type": "markdown",
   "metadata": {},
   "source": [
    "# Assignment 3"
   ]
  },
  {
   "cell_type": "markdown",
   "metadata": {},
   "source": [
    "1. Why are functions advantageous to have in your programs?\n",
    "Ans:\n",
    "Functions reduce the need for duplicate code. This makes programs shorter, easier to read, and easier to update.\n",
    "\n",
    "2. When does the code in a function run: when it's specified or when it's called?\n",
    "Ans:\n",
    "A function is runs when it is called. Python functions return a value using a return statement, if one is specified.\n",
    "\n",
    "3. What statement creates a function?\n",
    "Ans:\n",
    "def followed by function_name then parentheses\n",
    "def function_name():"
   ]
  },
  {
   "cell_type": "code",
   "execution_count": 1,
   "metadata": {},
   "outputs": [
    {
     "name": "stdout",
     "output_type": "stream",
     "text": [
      "Hello\n"
     ]
    }
   ],
   "source": [
    "def function():\n",
    "    print(\"Hello\")\n",
    "\n",
    "function()"
   ]
  },
  {
   "cell_type": "markdown",
   "metadata": {},
   "source": [
    "4. What is the difference between a function and a function call?\n",
    "Ans:\n",
    "A function is a piece of code which enhanced the reusability and modularity of your program. It means that piece of code need not be written again. A function call means invoking or calling that function. Unless a function is called there is no use of that function."
   ]
  },
  {
   "cell_type": "code",
   "execution_count": 2,
   "metadata": {},
   "outputs": [
    {
     "data": {
      "text/plain": [
       "6"
      ]
     },
     "execution_count": 2,
     "metadata": {},
     "output_type": "execute_result"
    }
   ],
   "source": [
    "#Function\n",
    "\n",
    "def add(a,b):\n",
    "    return a+ b\n",
    "\n",
    "#Function_call\n",
    "\n",
    "b= add(2,4)\n",
    "b"
   ]
  },
  {
   "cell_type": "markdown",
   "metadata": {},
   "source": [
    "5. How many global scopes are there in a Python program? How many local scopes?\n",
    "Ans:\n",
    "There are 1 global scopes and 1 local scope in the python program.\n",
    "\n",
    "6. What happens to variables in a local scope when the function call returns?\n",
    "Ans:\n",
    "The local variables are destroyed when function call returns.\n",
    "\n",
    "7. What is the concept of a return value? Is it possible to have a return value in an expression?\n",
    "Ans:\n",
    "Return value is value,variable or expression which function can return. Yes function return value can be an expression"
   ]
  },
  {
   "cell_type": "code",
   "execution_count": 3,
   "metadata": {},
   "outputs": [
    {
     "data": {
      "text/plain": [
       "112"
      ]
     },
     "execution_count": 3,
     "metadata": {},
     "output_type": "execute_result"
    }
   ],
   "source": [
    "def function(a,b):\n",
    "    return a+b+100  ## Return expression\n",
    "\n",
    "function(1,11)"
   ]
  },
  {
   "cell_type": "markdown",
   "metadata": {},
   "source": [
    "8. If a function does not have a return statement, what is the return value of a call to that function?\n",
    "Ans:\n",
    "If a function does not have a return statement that means the function is not returning any values.In this case after function is executed completly it will return a NoneType.\n",
    "\n",
    "9. How do you make a function variable refer to the global variable?\n",
    "ans:"
   ]
  },
  {
   "cell_type": "code",
   "execution_count": 4,
   "metadata": {},
   "outputs": [
    {
     "name": "stdout",
     "output_type": "stream",
     "text": [
      "10 =global\n",
      "100 =in function\n"
     ]
    }
   ],
   "source": [
    "a = 10\n",
    "print(a,\"=global\")\n",
    "\n",
    "def fun():\n",
    "    global a\n",
    "    a= 100   \n",
    "fun()\n",
    "print(a,\"=in function\")"
   ]
  },
  {
   "cell_type": "markdown",
   "metadata": {},
   "source": [
    "10. What is the data type of None?\n",
    "Ans:\n",
    "None data type is a null variable or null object. The null object is a data type of class NoneType.\n",
    "\n",
    "11. What does the sentence import areallyourpetsnamederic do?\n",
    "Ans:\n",
    "The statement \"import areallyourpetsnamederic\" will import the module or package areallyourpetsnamederic.\n",
    "\n",
    "12. If you had a bacon() feature in a spam module, what would you call it after importing spam?\n",
    "Ans:"
   ]
  },
  {
   "cell_type": "code",
   "execution_count": null,
   "metadata": {},
   "outputs": [],
   "source": [
    "# import spam\n",
    "# spam.bacon()"
   ]
  },
  {
   "cell_type": "markdown",
   "metadata": {},
   "source": [
    "13. What can you do to save a programme from crashing if it encounters an error?\n",
    "Ans:\n",
    "we can use the try and except statement.It will save from only the runtime error not the compile time error.\n",
    "\n",
    "14. What is the purpose of the try clause? What is the purpose of the except clause?\n",
    "Ans:\n",
    "try:\n",
    "do something\n",
    "except Exception:\n",
    "handle the error\n",
    "\n",
    "try: the code with the exception(s) to catch. If an exception is raised, it jumps straight into the except block.\n",
    "\n",
    "except: this code is only executed if an exception occured in the try block. The except block is required with a try block, even if it contains only the pass statement."
   ]
  },
  {
   "cell_type": "code",
   "execution_count": null,
   "metadata": {},
   "outputs": [],
   "source": []
  }
 ],
 "metadata": {
  "kernelspec": {
   "display_name": "Python 3",
   "language": "python",
   "name": "python3"
  },
  "language_info": {
   "codemirror_mode": {
    "name": "ipython",
    "version": 3
   },
   "file_extension": ".py",
   "mimetype": "text/x-python",
   "name": "python",
   "nbconvert_exporter": "python",
   "pygments_lexer": "ipython3",
   "version": "3.7.6"
  }
 },
 "nbformat": 4,
 "nbformat_minor": 4
}
