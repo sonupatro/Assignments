{
 "cells": [
  {
   "cell_type": "markdown",
   "metadata": {},
   "source": [
    "1. YouTube offers different playback speed options for users. This allows users to increase or decrease the speed of the video content. Given the actual duration and playback speed of the video, calculate the playback duration of the video."
   ]
  },
  {
   "cell_type": "code",
   "execution_count": 1,
   "metadata": {},
   "outputs": [],
   "source": [
    "def playback_duration(time,speed):\n",
    "    t = time.split(\":\")\n",
    "    secs = (3600*int(t[0])+60*int(t[1])+int(t[2]))/speed\n",
    "    hours = str(int(secs/3600)) if secs > 3600 else '00'\n",
    "    mins = str(int((secs%3600)/60)) if (secs)%3600 > 60 else '00'\n",
    "    f_secs = str(int((secs%3600)%60)) if ((secs)%3600)%60 > 0 else '00'   \n",
    "    output = f'{hours}:{mins}:{f_secs}'\n",
    "    print(f'playback_duration{time, speed} : {output}')"
   ]
  },
  {
   "cell_type": "code",
   "execution_count": 2,
   "metadata": {},
   "outputs": [
    {
     "name": "stdout",
     "output_type": "stream",
     "text": [
      "playback_duration('00:30:00', 2) : 00:15:00\n",
      "playback_duration('01:20:00', 1.5) : 00:53:20\n",
      "playback_duration('51:20:09', 0.5) : 102:40:18\n"
     ]
    }
   ],
   "source": [
    "playback_duration(\"00:30:00\", 2)\n",
    "playback_duration(\"01:20:00\", 1.5)\n",
    "playback_duration(\"51:20:09\", 0.5) "
   ]
  },
  {
   "cell_type": "markdown",
   "metadata": {},
   "source": [
    "2. We needs your help to construct a building which will be a pile of n cubes. The cube at the bottom will have a volume of n^3, the cube above will have volume of (n-1)^3 and so on until the top which will have a volume of 1^3.\n",
    "\n",
    "Given the total volume m of the building, can you find the number of cubes n required for the building?\n",
    "\n",
    "In other words, you have to return an integer n such that: n^3 + (n-1)^3 + ... + 1^3 == m\n",
    "\n",
    "Return None if there is no such number."
   ]
  },
  {
   "cell_type": "code",
   "execution_count": 3,
   "metadata": {},
   "outputs": [],
   "source": [
    "def pile_of_cubes(volume):\n",
    "    out_volume = 0\n",
    "    output = 0\n",
    "    for cube in range(1,volume):\n",
    "        out_volume += pow(cube,3)\n",
    "        if volume <= out_volume:\n",
    "            output = cube if volume == out_volume else None\n",
    "            break\n",
    "    print(f'pile_of_cubes({volume}) : {output}')"
   ]
  },
  {
   "cell_type": "code",
   "execution_count": 4,
   "metadata": {},
   "outputs": [
    {
     "name": "stdout",
     "output_type": "stream",
     "text": [
      "pile_of_cubes(1071225) : 45\n",
      "pile_of_cubes(4183059834009) : 2022\n",
      "pile_of_cubes(16) : None\n"
     ]
    }
   ],
   "source": [
    "pile_of_cubes(1071225)\n",
    "pile_of_cubes(4183059834009)\n",
    "pile_of_cubes(16)"
   ]
  },
  {
   "cell_type": "markdown",
   "metadata": {},
   "source": [
    "3. A fulcrum of a list is an integer such that all elements to the left of it and all elements to the right of it sum to the same value. Write a function that finds the fulcrum of a list.\n",
    "\n",
    "To illustrate:\n",
    "\n",
    "find_fulcrum([3, 1, 5, 2, 4, 6, -1]) ➞ 2 // Since [3, 1, 5] and [4, 6, -1] both sum to 9"
   ]
  },
  {
   "cell_type": "code",
   "execution_count": 5,
   "metadata": {},
   "outputs": [],
   "source": [
    "def find_fulcrum(lst):\n",
    "    output = -1\n",
    "    for i in lst:\n",
    "        index1 =lst.index(i)\n",
    "        if sum(lst[:index1]) == sum(lst[index1+1:]):\n",
    "            output = i\n",
    "            break\n",
    "    print(f'find_fulcrum({lst}) : {output}')"
   ]
  },
  {
   "cell_type": "code",
   "execution_count": 6,
   "metadata": {},
   "outputs": [
    {
     "name": "stdout",
     "output_type": "stream",
     "text": [
      "find_fulcrum([3, 1, 5, 2, 4, 6, -1]) : 2\n",
      "find_fulcrum([1, 2, 4, 9, 10, -10, -9, 3]) : 4\n",
      "find_fulcrum([9, 1, 9]) : 1\n",
      "find_fulcrum([7, -1, 0, -1, 1, 1, 2, 3]) : 0\n",
      "find_fulcrum([8, 8, 8, 8]) : -1\n"
     ]
    }
   ],
   "source": [
    "find_fulcrum([3, 1, 5, 2, 4, 6, -1])\n",
    "find_fulcrum([1, 2, 4, 9, 10, -10, -9, 3])\n",
    "find_fulcrum([9, 1, 9])\n",
    "find_fulcrum([7, -1, 0, -1, 1, 1, 2, 3])\n",
    "find_fulcrum([8, 8, 8, 8])"
   ]
  },
  {
   "cell_type": "markdown",
   "metadata": {},
   "source": [
    "4. Given a list of integers representing the color of each sock, determine how many pairs of socks with matching colors there are. For example, there are 7 socks with colors [1, 2, 1, 2, 1, 3, 2]. There is one pair of color 1 and one of color 2. There are three odd socks left, one of each color. The number of pairs is 2.\n",
    "\n",
    "Create a function that returns an integer representing the number of matching pairs of socks that are available."
   ]
  },
  {
   "cell_type": "code",
   "execution_count": 7,
   "metadata": {},
   "outputs": [],
   "source": [
    "def sock_merchant(lst):\n",
    "    pair_socks = {}\n",
    "    output = 0\n",
    "    for i in lst:\n",
    "        if i in pair_socks:\n",
    "            pair_socks[i]+=1\n",
    "        else:\n",
    "            pair_socks[i]=1\n",
    "    for pair in pair_socks.values():\n",
    "        output += pair//2\n",
    "    print(f'sock_merchant({lst}) : {output}')"
   ]
  },
  {
   "cell_type": "code",
   "execution_count": 8,
   "metadata": {},
   "outputs": [
    {
     "name": "stdout",
     "output_type": "stream",
     "text": [
      "sock_merchant([10, 20, 20, 10, 10, 30, 50, 10, 20]) : 3\n",
      "sock_merchant([50, 20, 30, 90, 30, 20, 50, 20, 90]) : 4\n",
      "sock_merchant([]) : 0\n"
     ]
    }
   ],
   "source": [
    "sock_merchant([10, 20, 20, 10, 10, 30, 50, 10, 20])\n",
    "sock_merchant([50, 20, 30, 90, 30, 20, 50, 20, 90])\n",
    "sock_merchant([])"
   ]
  },
  {
   "cell_type": "markdown",
   "metadata": {},
   "source": [
    "5. Create a function that takes a string containing integers as well as other characters and return the sum of the negative integers only."
   ]
  },
  {
   "cell_type": "code",
   "execution_count": 9,
   "metadata": {},
   "outputs": [],
   "source": [
    "import re\n",
    "def negative_sum(string):\n",
    "    pattern = '-\\d+'\n",
    "    output = sum([int(i) for i in re.findall(pattern,string)])\n",
    "    print(f'negative_sum(\"{string}\") : {output}')"
   ]
  },
  {
   "cell_type": "code",
   "execution_count": 10,
   "metadata": {},
   "outputs": [
    {
     "name": "stdout",
     "output_type": "stream",
     "text": [
      "negative_sum(\"-12 13%14&-11\") : -23\n",
      "negative_sum(\"22 13%14&-11-22 13 12\") : -33\n"
     ]
    }
   ],
   "source": [
    "negative_sum(\"-12 13%14&-11\")\n",
    "negative_sum(\"22 13%14&-11-22 13 12\")"
   ]
  },
  {
   "cell_type": "code",
   "execution_count": null,
   "metadata": {},
   "outputs": [],
   "source": []
  },
  {
   "cell_type": "code",
   "execution_count": null,
   "metadata": {},
   "outputs": [],
   "source": []
  },
  {
   "cell_type": "code",
   "execution_count": null,
   "metadata": {},
   "outputs": [],
   "source": []
  },
  {
   "cell_type": "code",
   "execution_count": null,
   "metadata": {},
   "outputs": [],
   "source": []
  }
 ],
 "metadata": {
  "kernelspec": {
   "display_name": "Python 3",
   "language": "python",
   "name": "python3"
  },
  "language_info": {
   "codemirror_mode": {
    "name": "ipython",
    "version": 3
   },
   "file_extension": ".py",
   "mimetype": "text/x-python",
   "name": "python",
   "nbconvert_exporter": "python",
   "pygments_lexer": "ipython3",
   "version": "3.7.6"
  }
 },
 "nbformat": 4,
 "nbformat_minor": 4
}
