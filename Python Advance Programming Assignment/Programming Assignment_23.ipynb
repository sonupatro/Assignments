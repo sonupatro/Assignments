{
 "cells": [
  {
   "cell_type": "markdown",
   "metadata": {},
   "source": [
    "1. Create a class Sudoku that takes a string as an argument. The string will contain the numbers of a regular 9x9 sudoku board left to right and top to bottom, with zeros filling up the empty cells.\n",
    "\n",
    "Attributes:\n",
    "\n",
    "An instance of the class Sudoku will have one attribute:\n",
    "\n",
    "board: a list representing the board, with sublits for each row, with the numbers as integers. Empty cell represented with 0.\n",
    "\n",
    "Methods:\n",
    "\n",
    "An instance of the class Sudoku wil have three methods:\n",
    "\n",
    "1.get_row(n): will return the row in position n.\n",
    "\n",
    "2.get_col(n): will return the column in position n.\n",
    "\n",
    "3.get_sqr([n, m]): will return the square in position n if only one argument is given, and the square to which the cell in position (n, m) belongs to if two arguments are given.\n",
    "\n"
   ]
  },
  {
   "cell_type": "code",
   "execution_count": 1,
   "metadata": {},
   "outputs": [],
   "source": [
    "class Sudoku:\n",
    "    def __init__(self,string):\n",
    "        self.board = []\n",
    "        for i in range(0,len(string),9):\n",
    "            self.board.append([int(s) for s in string[i:i+9]])\n",
    "            \n",
    "    def get_row(self,row):\n",
    "        return self.board[row]\n",
    "    \n",
    "    def get_col(self,column):\n",
    "        output = []\n",
    "        for i in self.board:\n",
    "            output.append(i[column])\n",
    "        return output\n",
    "    \n",
    "    def get_sqr(self,row,column=None):\n",
    "        output = []\n",
    "        square_to_cell = {\n",
    "            0 : [[0,1,2],[0,1,2]],\n",
    "            1 : [[0,1,2],[3,4,5]],\n",
    "            2 : [[0,1,2],[6,7,8]],\n",
    "            3 : [[3,4,5],[0,1,2]],\n",
    "            4 : [[3,4,5],[3,4,5]],\n",
    "            5 : [[3,4,5],[6,7,8]],\n",
    "            6 : [[6,7,8],[0,1,2]],\n",
    "            7 : [[6,7,8],[3,4,5]],\n",
    "            8 : [[6,7,8],[6,7,8]]\n",
    "        }\n",
    "        \n",
    "        if column == None:\n",
    "            for i in square_to_cell[row][0]:\n",
    "                for j in square_to_cell[row][1]:\n",
    "                    output.append(self.board[i][j])\n",
    "        else:\n",
    "            square = None\n",
    "            if row <= 2:\n",
    "                square = 0 if column <=2 else 1 if column <=5 else 2\n",
    "            elif row <= 5:\n",
    "                square = 3 if column <=2 else 4 if column <=5 else 5\n",
    "            else:\n",
    "                square = 6 if column <=2 else 7 if column <=5 else 8\n",
    "            for i in square_to_cell[square][0]:\n",
    "                for j in square_to_cell[square][1]:\n",
    "                    output.append(self.board[i][j])\n",
    "        return (output)"
   ]
  },
  {
   "cell_type": "code",
   "execution_count": 2,
   "metadata": {},
   "outputs": [
    {
     "data": {
      "text/plain": [
       "[[4, 1, 7, 9, 5, 0, 0, 3, 0],\n",
       " [0, 0, 0, 0, 0, 0, 7, 0, 0],\n",
       " [0, 6, 0, 0, 0, 7, 0, 0, 0],\n",
       " [0, 5, 0, 0, 0, 9, 1, 0, 6],\n",
       " [8, 0, 0, 6, 0, 0, 0, 0, 0],\n",
       " [0, 0, 0, 0, 0, 3, 4, 0, 0],\n",
       " [9, 0, 0, 0, 0, 5, 0, 0, 0],\n",
       " [0, 0, 0, 4, 3, 0, 0, 0, 0],\n",
       " [2, 0, 0, 7, 0, 1, 5, 8, 0]]"
      ]
     },
     "metadata": {},
     "output_type": "display_data"
    }
   ],
   "source": [
    "game = Sudoku(\"417950030000000700060007000050009106800600000000003400900005000000430000200701580\")\n",
    "display(game.board)"
   ]
  },
  {
   "cell_type": "code",
   "execution_count": 3,
   "metadata": {},
   "outputs": [
    {
     "name": "stdout",
     "output_type": "stream",
     "text": [
      "game.get_row(0) ➞ [4, 1, 7, 9, 5, 0, 0, 3, 0]\n",
      "game.get_col(8) ➞ [0, 0, 0, 6, 0, 0, 0, 0, 0]\n",
      "game.get_sqr(1) ➞ [9, 5, 0, 0, 0, 0, 0, 0, 7]\n",
      "game.get_sqr(1,8) ➞ [0, 3, 0, 7, 0, 0, 0, 0, 0]\n",
      "game.get_sqr(8,3) ➞ [0, 0, 5, 4, 3, 0, 7, 0, 1]\n"
     ]
    }
   ],
   "source": [
    "print(f'game.get_row(0) ➞ {game.get_row(0)}')\n",
    "print(f'game.get_col(8) ➞ {game.get_col(8)}')\n",
    "print(f'game.get_sqr(1) ➞ {game.get_sqr(1)}')\n",
    "print(f'game.get_sqr(1,8) ➞ {game.get_sqr(1,8)}')\n",
    "print(f'game.get_sqr(8,3) ➞ {game.get_sqr(8,3)}')"
   ]
  },
  {
   "cell_type": "markdown",
   "metadata": {},
   "source": [
    "2. The function input is two non-empty linked lists representing two non-negative integers. The digits are stored in reverse order, and each of their nodes contains a single digit. Add the two numbers and return the sum as a linked list, in which the digits are also stored in reversed order. The class ListNode, building block of the linked list, is defined in the Tests tab.\n",
    "\n",
    "Class definition\n",
    "\n",
    "class ListNode: def __init__(self, val=0, next=None): self.val = val self.next = next"
   ]
  },
  {
   "cell_type": "code",
   "execution_count": 4,
   "metadata": {},
   "outputs": [],
   "source": [
    "class ListNode:\n",
    "    def __init__(self, val=0, next=None):\n",
    "        self.val = val\n",
    "        self.next = next\n",
    "        self.out = []\n",
    "        self.out.append(val)       \n",
    "    def add_data(self,lst):\n",
    "        self.out.extend(lst)\n",
    "    def get_data(self):\n",
    "        return self.out\n",
    "    \n",
    "class add:\n",
    "    def __init__(self,ob1,ob2):\n",
    "        self.ob1 = ob1\n",
    "        self.ob2 = ob2  \n",
    "    def get_data(self):\n",
    "        it1 = ''.join([str(i) for i in self.ob1.get_data()[::-1]])\n",
    "        it2 = ''.join([str(i) for i in self.ob2.get_data()[::-1]])\n",
    "        return [int(x) for x in str(int(it1)+int(it2))[::-1]]   "
   ]
  },
  {
   "cell_type": "code",
   "execution_count": 5,
   "metadata": {},
   "outputs": [
    {
     "name": "stdout",
     "output_type": "stream",
     "text": [
      "lt1.get_data() ➞ [2, 4, 3]\n",
      "lt2.get_data() ➞ [5, 6, 4]\n",
      "add_two_numbers(lt1, lt2).get_data() ➞ [7, 0, 8]\n",
      "\n",
      "lt1.get_data() ➞ [0]\n",
      "lt2.get_data() ➞ [0]\n",
      "add_two_numbers(lt1, lt2).get_data() ➞ [0]\n",
      "\n",
      "lt1.get_data() ➞ [9, 9, 9, 9, 9, 9, 9]\n",
      "lt2.get_data() ➞ [9, 9, 9, 9]\n",
      "add_two_numbers(lt1, lt2).get_data() ➞ [8, 9, 9, 9, 0, 0, 0, 1]\n"
     ]
    }
   ],
   "source": [
    "lt1 = ListNode(2)\n",
    "lt1.add_data([4, 3])\n",
    "\n",
    "lt2 = ListNode(5)\n",
    "lt2.add_data([6, 4])\n",
    "\n",
    "print(f'lt1.get_data() ➞ {lt1.get_data()}') \n",
    "print(f'lt2.get_data() ➞ {lt2.get_data()}') \n",
    "print(f'add_two_numbers(lt1, lt2).get_data() ➞ {add(lt1, lt2).get_data()}',end='\\n\\n')\n",
    "\n",
    "lt1 = ListNode(0)\n",
    "lt2 = ListNode(0)\n",
    "\n",
    "print(f'lt1.get_data() ➞ {lt1.get_data()}') \n",
    "print(f'lt2.get_data() ➞ {lt2.get_data()}') \n",
    "print(f'add_two_numbers(lt1, lt2).get_data() ➞ {add(lt1, lt2).get_data()}',end='\\n\\n')\n",
    "\n",
    "lt1 = ListNode(9)\n",
    "lt1.add_data([9,9,9,9,9,9])\n",
    "\n",
    "lt2 = ListNode(9)\n",
    "lt2.add_data([9,9,9])\n",
    "\n",
    "print(f'lt1.get_data() ➞ {lt1.get_data()}') \n",
    "print(f'lt2.get_data() ➞ {lt2.get_data()}') \n",
    "print(f'add_two_numbers(lt1, lt2).get_data() ➞ {add(lt1, lt2).get_data()}')"
   ]
  },
  {
   "cell_type": "markdown",
   "metadata": {},
   "source": [
    "3. Write a class called CoffeeShop, which has three instance variables:\n",
    "\n",
    "1.name : a string (basically, of the shop)\n",
    "\n",
    "2.menu : a list of items (of dict type), with each item containing the item (name of the item), type (whether a food or a drink) and price.\n",
    "\n",
    "3.orders : an empty list\n",
    "\n",
    "and seven methods:\n",
    "\n",
    "1.add_order: adds the name of the item to the end of the orders list if it exists on the menu, otherwise, return \"This item is currently unavailable!\"\n",
    "\n",
    "2.fulfill_order: if the orders list is not empty, return \"The {item} is ready!\". If the orders list is empty, return \"All orders have been fulfilled!\"\n",
    "\n",
    "3.list_orders: returns the item names of the orders taken, otherwise, an empty list.\n",
    "due_amount: returns the total amount due for the orders taken.\n",
    "\n",
    "4.cheapest_item: returns the name of the cheapest item on the menu.\n",
    "drinks_only: returns only the item names of type drink from the menu.\n",
    "\n",
    "5.food_only: returns only the item names of type food from the menu.\n",
    "\n",
    "IMPORTANT: Orders are fulfilled in a FIFO (first-in, first-out) order."
   ]
  },
  {
   "cell_type": "code",
   "execution_count": 6,
   "metadata": {},
   "outputs": [],
   "source": [
    "Menu = [\n",
    "    {'name':'Orange Juice','type':'drink','price':25.50},\n",
    "    {'name':'Lemonade','type':'drink','price':10},\n",
    "    {'name':'Cranberry Juice','type':'drink','price':40},\n",
    "    {'name':'Pineapple Juice','type':'drink','price':40},\n",
    "    {'name':'Lemon Iced Tea','type':'drink','price':80},\n",
    "    {'name':'Vanilla Chai Latte','type':'drink','price':90},\n",
    "    {'name':'Hot Choclate','type':'drink','price':100},\n",
    "    {'name':'Iced Cofee','type':'drink','price':70.12},\n",
    "    {'name':'Tuna Sandwich','type':'food','price':120},\n",
    "    {'name':'Ham Cheese Sandwich','type':'food','price':180},\n",
    "    {'name':'Bacon And Egg','type':'food','price': 120},\n",
    "    {'name':'Chicken Biryani','type':'food','price':360},\n",
    "    {'name':'Veg Burger','type':'food','price':90},\n",
    "    {'name':'Cinnamon Roll','type':'food','price':60.25}\n",
    "]"
   ]
  },
  {
   "cell_type": "code",
   "execution_count": 7,
   "metadata": {},
   "outputs": [],
   "source": [
    "class Cofeeshop:\n",
    "    def __init__(self,name,menu,orders):\n",
    "        self.name = name\n",
    "        self.menu = menu\n",
    "        self.orders = orders\n",
    "    \n",
    "    def add_order(self, order_name):\n",
    "        available_items = [item['name'].lower() for item in self.menu]\n",
    "        if order_name in available_items:\n",
    "            output = \"Order added!\"\n",
    "            self.orders.append(order_name)\n",
    "        else:\n",
    "            output = \"This item is currently unavailable!\"\n",
    "        return output\n",
    "    \n",
    "    def list_orders(self):\n",
    "        return self.orders\n",
    "    \n",
    "    def due_amount(self):\n",
    "        output = sum([item['price'] for item in self.menu if item['name'].lower() in self.orders])\n",
    "        return output\n",
    "    \n",
    "    def fulfill_order(self):\n",
    "        if len(self.orders) > 0:\n",
    "            output = f'The {self.orders.pop(0)} is ready!'\n",
    "        else:\n",
    "            output = 'All orders have been fulfilled!'\n",
    "        return output\n",
    "        \n",
    "    def cheapest_item(self):\n",
    "        lowest_price = min([item['price'] for item in self.menu])\n",
    "        output = [item['name'] for item in self.menu if item['price'] == lowest_price]\n",
    "        return output[0]\n",
    "        \n",
    "    def drinks_only(self):\n",
    "        output = [item['name'] for item in self.menu if item['type'] == 'drink']\n",
    "        return output\n",
    "    \n",
    "    def food_only(self):\n",
    "        output = [item['name'] for item in self.menu if item['type'] == 'food']\n",
    "        return output"
   ]
  },
  {
   "cell_type": "code",
   "execution_count": 10,
   "metadata": {},
   "outputs": [
    {
     "name": "stdout",
     "output_type": "stream",
     "text": [
      "cts.add_order(\"hot cocoa\") ➞ This item is currently unavailable!\n",
      "cts.add_order(\"iced tea\") ➞ This item is currently unavailable!\n",
      "cts.add_order(\"cinnamon roll\") ➞ Order added!\n",
      "cts.add_order(\"iced cofee\") ➞ Order added!\n",
      "cts.list_orders() ➞ ['cinnamon roll', 'iced cofee']\n",
      "cts.due_amount() ➞ 130.37\n",
      "cts.fulfill_order() ➞ The cinnamon roll is ready!\n",
      "cts.fulfill_order() ➞ The iced cofee is ready!\n",
      "cts.fulfill_order() ➞ All orders have been fulfilled!\n",
      "cts.list_orders() ➞ []\n",
      "cts.due_amount() ➞ 0\n",
      "cts.cheapest_item() ➞ Lemonade\n",
      "cts.food_only() ➞ ['Tuna Sandwich', 'Ham Cheese Sandwich', 'Bacon And Egg', 'Chicken Biryani', 'Veg Burger', 'Cinnamon Roll']\n",
      "cts.drinks_only() ➞ ['Orange Juice', 'Lemonade', 'Cranberry Juice', 'Pineapple Juice', 'Lemon Iced Tea', 'Vanilla Chai Latte', 'Hot Choclate', 'Iced Cofee']\n"
     ]
    }
   ],
   "source": [
    "cts = Cofeeshop('Tesha\\'s Cofee Shop',Menu,[])\n",
    "print(f'cts.add_order(\"hot cocoa\") ➞ {cts.add_order(\"hot cocoa\")}')\n",
    "print(f'cts.add_order(\"iced tea\") ➞ {cts.add_order(\"iced tea\")}')\n",
    "print(f'cts.add_order(\"cinnamon roll\") ➞ {cts.add_order(\"cinnamon roll\")}')\n",
    "print(f'cts.add_order(\"iced cofee\") ➞ {cts.add_order(\"iced cofee\")}')\n",
    "print(f'cts.list_orders() ➞ {cts.list_orders()}')\n",
    "print(f'cts.due_amount() ➞ {cts.due_amount()}')\n",
    "print(f'cts.fulfill_order() ➞ {cts.fulfill_order()}')\n",
    "print(f'cts.fulfill_order() ➞ {cts.fulfill_order()}')\n",
    "print(f'cts.fulfill_order() ➞ {cts.fulfill_order()}')\n",
    "print(f'cts.list_orders() ➞ {cts.list_orders()}')\n",
    "print(f'cts.due_amount() ➞ {cts.due_amount()}')\n",
    "print(f'cts.cheapest_item() ➞ {cts.cheapest_item()}')\n",
    "print(f'cts.food_only() ➞ {cts.food_only()}')\n",
    "print(f'cts.drinks_only() ➞ {cts.drinks_only()}')"
   ]
  },
  {
   "cell_type": "markdown",
   "metadata": {},
   "source": [
    "4. In this challenge, write a funcion loneliest_number to find the last Lonely number inside a sequence. A number is Lonely if the distance from its closest Prime sets a new record of the sequence.\n",
    "\n",
    "Sequence = from 0 to 3\n",
    "\n",
    "#Any number lower than 3 doesn't have a Prime preceeding it...\n",
    "\n",
    "#...so that you'll consider only its next closest Prime.\n",
    "\n",
    "0 has distance 2 from its closest Prime (2)\n",
    "\n",
    "#It's a new record! 0 It's the first lonely number of the sequence\n",
    "\n",
    "1 has distance 1 from its closest Prime (2)\n",
    "\n",
    "2 has distance 1 from 3\n",
    "\n",
    "3 has distance 1 from 2\n",
    "\n",
    "#The sequence 0 to 3 has only one Lonely number: 0\n",
    "\n",
    "Sequence = Numbers from 5 to 10\n",
    "\n",
    "5 has distance 2 from its closest Prime (3 or 7)\n",
    "\n",
    "#It's a new record! 5 It's the first lonely number of the sequence\n",
    "\n",
    "6 has distance 1 from 5 or 7\n",
    "\n",
    "7 has distance 2 from 5\n",
    "\n",
    "8 has distance 1 from 7\n",
    "\n",
    "9 has distance 2 from 7 or 11\n",
    "\n",
    "10 has distance 1 from 11\n",
    "\n",
    "#The sequence 5 to 10 has only one Lonely number: 5\n",
    "\n",
    "Sequence = Numbers from 19 to 24\n",
    "\n",
    "19 has distance 2 from its closest Prime (17)\n",
    "\n",
    "#It's a new record! 19 It's the first lonely number of the sequence\n",
    "\n",
    "20 has distance 1 from 19\n",
    "\n",
    "21 has distance 2 from 5\n",
    "\n",
    "22 has distance 1 from 23\n",
    "\n",
    "23 has distance 4 from 17 or 29\n",
    "\n",
    "#It's a new record! 23 is the second lonely number of the sequence\n",
    "\n",
    "24 has distance 1 from 23\n",
    "\n",
    "#The sequence 19 to 24 has two Lonely numbers: 19 and 23\n",
    "\n",
    "The function loneliest_number must accept two integers lo and hi being the inclusive bounds of the sequence to analyze, and returns a dictionay (dict) object with the following keys and values:\n",
    "\n",
    "1.number: is the last Lonely number found in the given sequence;\n",
    "\n",
    "2.distance: is the distance of the number from its closest Prime;\n",
    "\n",
    "3.closest: is the Prime closest to number (if two Primes are equally distant from number, return the higher Prime)."
   ]
  },
  {
   "cell_type": "code",
   "execution_count": 11,
   "metadata": {},
   "outputs": [],
   "source": [
    "def loneliest_number(start,end):\n",
    "    prime = []\n",
    "    output = {'number': 0, 'distance': 0, 'closest': 0}\n",
    "    temp = []\n",
    "    if start <=3: prime.extend([2,3])\n",
    "    for i in range(start,end+1):\n",
    "        if (i-1)%6 == 0 or (i+1)%6 == 0: prime.append(i) # initial check\n",
    "    for i in prime:\n",
    "        for item in range(2,i):\n",
    "            if i%item == 0 :\n",
    "                temp.append(i)\n",
    "                break    \n",
    "    prime = sorted(set(prime)-set(temp))\n",
    "    if start in [4,5] : print(3) ; prime.insert(0,3) # Logic to get first prime number before start\n",
    "    else:\n",
    "        for i in range(start-1,0,-1):\n",
    "            if (i-1)%6 == 0 or (i+1)%6 == 0:\n",
    "                prime.insert(0,i)\n",
    "                break\n",
    "    while True: # Logic to get first prime number after end\n",
    "        if (end-1)%6 == 0 or (end+1)%6 == 0:\n",
    "            out_num = None\n",
    "            for i in range(2,end):\n",
    "                if end%i == 0:\n",
    "                    out_num = i\n",
    "                    break\n",
    "            if out_num == None:prime.append(end) ; break\n",
    "            else: end +=1\n",
    "        else:\n",
    "            end+=1          \n",
    "    if 1 in prime: prime.remove(1)                 \n",
    "    for i in range(start,end):\n",
    "        org = i\n",
    "        while True:\n",
    "            if i in prime:\n",
    "                f_prime = i if i != org else prime[prime.index(i)+1]\n",
    "                b_prime = prime[prime.index(i)-1] if prime.index(i) > 0 else 0\n",
    "                closest_distance = min(org-b_prime,f_prime-org) if b_prime !=0 else f_prime-org \n",
    "                closest_prime = f_prime if b_prime == 0 or closest_distance == f_prime-org else b_prime\n",
    "                if output['distance'] < closest_distance:\n",
    "                    output = {'number': org, 'distance': closest_distance, 'closest': closest_prime}\n",
    "                break\n",
    "            else:\n",
    "                i +=1\n",
    "    print(output)"
   ]
  },
  {
   "cell_type": "code",
   "execution_count": 12,
   "metadata": {},
   "outputs": [
    {
     "name": "stdout",
     "output_type": "stream",
     "text": [
      "{'number': 0, 'distance': 2, 'closest': 2}\n"
     ]
    }
   ],
   "source": [
    "loneliest_number(0,22)"
   ]
  },
  {
   "cell_type": "code",
   "execution_count": 13,
   "metadata": {},
   "outputs": [
    {
     "name": "stdout",
     "output_type": "stream",
     "text": [
      "{'number': 120, 'distance': 7, 'closest': 127}\n"
     ]
    }
   ],
   "source": [
    "loneliest_number(8, 123)"
   ]
  },
  {
   "cell_type": "code",
   "execution_count": 14,
   "metadata": {},
   "outputs": [
    {
     "name": "stdout",
     "output_type": "stream",
     "text": [
      "{'number': 1140, 'distance': 11, 'closest': 1151}\n"
     ]
    }
   ],
   "source": [
    "loneliest_number(938, 1190)"
   ]
  },
  {
   "cell_type": "code",
   "execution_count": 15,
   "metadata": {},
   "outputs": [
    {
     "name": "stdout",
     "output_type": "stream",
     "text": [
      "{'number': 211, 'distance': 12, 'closest': 223}\n"
     ]
    }
   ],
   "source": [
    "loneliest_number(120, 1190)"
   ]
  },
  {
   "cell_type": "markdown",
   "metadata": {},
   "source": [
    "5. Implement a class Selfie that can store the current state of the object in the form of binary string. It can take multiple pictures and then recover to a state it was before. During testing an object will be provided with new attributes and their values. It will store its state. Then the values will be changed. Then it will be given new attributes. It will store its state again. It will be repeated few times.\n",
    "\n",
    "Later the states of the object will be recovered given an index. The return value should be a new Selfie with the requested historic state and the state history of the new object should be updated with a copy of current object's state history.\n",
    "\n",
    "The object also knows how many states it has stored. If the index is not within the range of stored states, the object stays as is. If the argument is invalid, n < 0 or n >= self.n_states(), the current object (or a copy thereof) should be returned."
   ]
  },
  {
   "cell_type": "code",
   "execution_count": 16,
   "metadata": {},
   "outputs": [],
   "source": [
    "class Selfie:\n",
    "    def __init__(self,x=None):\n",
    "        self.x = x\n",
    "        self.archived_states = []\n",
    "    def save_state(self):\n",
    "        self.archived_states.append(self.x)\n",
    "        self.x = None\n",
    "        return self.archived_states\n",
    "    def recover_state(self,num):\n",
    "        if num >=0 and num <= len(self.archived_states):\n",
    "            self.x = self.archived_states[num]\n",
    "        return self"
   ]
  },
  {
   "cell_type": "code",
   "execution_count": 17,
   "metadata": {},
   "outputs": [
    {
     "name": "stdout",
     "output_type": "stream",
     "text": [
      "p.__dict__  ➞ {'x': 2, 'archived_states': []}\n",
      "p.__dict__  ➞ {'x': None, 'archived_states': [2]}\n",
      "p.__dict__  ➞ {'x': 5, 'archived_states': [2]}\n",
      "p.__dict__  ➞ {'x': None, 'archived_states': [2, 5]}\n",
      "p.__dict__  ➞ {'x': 2, 'archived_states': [2, 5]}\n",
      "p.x ➞ 2\n"
     ]
    }
   ],
   "source": [
    "p = Selfie()\n",
    "p.x = 2\n",
    "print(f'p.__dict__  ➞ {p.__dict__}')\n",
    "p.save_state()\n",
    "print(f'p.__dict__  ➞ {p.__dict__}')\n",
    "p.x = 5\n",
    "print(f'p.__dict__  ➞ {p.__dict__}')\n",
    "p.save_state()\n",
    "print(f'p.__dict__  ➞ {p.__dict__}')\n",
    "p = p.recover_state(0)\n",
    "print(f'p.__dict__  ➞ {p.__dict__}')\n",
    "print(f'p.x ➞ {p.x}')"
   ]
  },
  {
   "cell_type": "code",
   "execution_count": null,
   "metadata": {},
   "outputs": [],
   "source": []
  },
  {
   "cell_type": "code",
   "execution_count": null,
   "metadata": {},
   "outputs": [],
   "source": []
  },
  {
   "cell_type": "code",
   "execution_count": null,
   "metadata": {},
   "outputs": [],
   "source": []
  },
  {
   "cell_type": "code",
   "execution_count": null,
   "metadata": {},
   "outputs": [],
   "source": []
  },
  {
   "cell_type": "code",
   "execution_count": null,
   "metadata": {},
   "outputs": [],
   "source": []
  },
  {
   "cell_type": "code",
   "execution_count": null,
   "metadata": {},
   "outputs": [],
   "source": []
  },
  {
   "cell_type": "code",
   "execution_count": null,
   "metadata": {},
   "outputs": [],
   "source": []
  },
  {
   "cell_type": "code",
   "execution_count": null,
   "metadata": {},
   "outputs": [],
   "source": []
  }
 ],
 "metadata": {
  "kernelspec": {
   "display_name": "Python 3",
   "language": "python",
   "name": "python3"
  },
  "language_info": {
   "codemirror_mode": {
    "name": "ipython",
    "version": 3
   },
   "file_extension": ".py",
   "mimetype": "text/x-python",
   "name": "python",
   "nbconvert_exporter": "python",
   "pygments_lexer": "ipython3",
   "version": "3.7.6"
  }
 },
 "nbformat": 4,
 "nbformat_minor": 4
}
