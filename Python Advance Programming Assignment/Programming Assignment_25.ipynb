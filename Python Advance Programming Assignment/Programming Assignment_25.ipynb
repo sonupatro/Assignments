{
 "cells": [
  {
   "cell_type": "markdown",
   "metadata": {},
   "source": [
    "1. Write four functions that directly mutate a list:\n",
    "\n",
    "1.repeat(lst, n): Repeat lst n times.\n",
    "\n",
    "2.add(lst, x): Adds x to the end of the lst.\n",
    "\n",
    "3.remove(lst, m, n): Removes all elements between indices m and n inclusive in lst.\n",
    "\n",
    "4.concat(lst, x): concatenates lst with x (another list)."
   ]
  },
  {
   "cell_type": "code",
   "execution_count": 1,
   "metadata": {},
   "outputs": [],
   "source": [
    "lst = [1, 2, 3, 4]\n",
    "\n",
    "def repeat(num):\n",
    "    global lst\n",
    "    lst = lst*num\n",
    "    return lst\n",
    "\n",
    "def add(num):\n",
    "    global lst\n",
    "    lst.append(num)\n",
    "    return lst\n",
    "\n",
    "def remove(start,end):\n",
    "    global lst\n",
    "    for i in lst[start:end+1]:\n",
    "        lst.remove(i)\n",
    "    return lst\n",
    "\n",
    "def concat(lst2):\n",
    "    global lst\n",
    "    lst = lst+lst2\n",
    "    return lst"
   ]
  },
  {
   "cell_type": "code",
   "execution_count": 2,
   "metadata": {},
   "outputs": [
    {
     "name": "stdout",
     "output_type": "stream",
     "text": [
      "repeat(3) ➞ [1, 2, 3, 4, 1, 2, 3, 4, 1, 2, 3, 4]\n"
     ]
    }
   ],
   "source": [
    "print(f'repeat(3) ➞ {repeat(3)}')"
   ]
  },
  {
   "cell_type": "code",
   "execution_count": 3,
   "metadata": {},
   "outputs": [
    {
     "name": "stdout",
     "output_type": "stream",
     "text": [
      "add(1) ➞ [1, 2, 3, 4, 1, 2, 3, 4, 1, 2, 3, 4, 1]\n"
     ]
    }
   ],
   "source": [
    "print(f'add(1) ➞ {add(1)}')"
   ]
  },
  {
   "cell_type": "code",
   "execution_count": 4,
   "metadata": {},
   "outputs": [
    {
     "name": "stdout",
     "output_type": "stream",
     "text": [
      "remove(lst, 1, 12) ➞ [1]\n"
     ]
    }
   ],
   "source": [
    "print(f'remove(lst, 1, 12) ➞ {remove(1,12)}')"
   ]
  },
  {
   "cell_type": "code",
   "execution_count": 5,
   "metadata": {},
   "outputs": [
    {
     "name": "stdout",
     "output_type": "stream",
     "text": [
      "concat([3, 4]) ➞ [1, 3, 4]\n"
     ]
    }
   ],
   "source": [
    "print(f'concat([3, 4]) ➞ {concat([3, 4])}')"
   ]
  },
  {
   "cell_type": "markdown",
   "metadata": {},
   "source": [
    "2. The classic game of Mastermind is played on a tray on which the Mastermind conceals a code and the Guesser has 10 tries to guess it. The code is a sequence of 4 (or 6, sometimes more) pegs of different colors. Each guess is a corresponding sequence of 4 (or more) pegs of different colors. A guess is \"correct\" when the color of every peg in the guess exactly matches the corresponding peg in the Mastermind's code.\n",
    "\n",
    "After each guess by the Guesser, the Mastermind will give a score comprising black & white pegs, not arranged in any order:\n",
    "\n",
    "Black peg == guess peg matches the color of a code peg in the same position.\n",
    "\n",
    "White peg == guess peg matches the color of a code peg in another position.\n",
    "\n",
    "Create a function that takes two strings, code and guess as arguments, and returns the score in a dictionary.\n",
    "\n",
    "The code and guess are strings of numeric digits\n",
    "\n",
    "The color of the pegs are represented by numeric digits\n",
    "\n",
    "no \"peg\" may be double-scored"
   ]
  },
  {
   "cell_type": "code",
   "execution_count": 6,
   "metadata": {},
   "outputs": [],
   "source": [
    "def guess_score(code,guess):\n",
    "    output = {\"black\":0,\"white\":0}\n",
    "    for i in range(len(code)): \n",
    "        if code[i] == guess[i]:\n",
    "            output['black'] += 1\n",
    "        elif code[i] in guess and i != guess.index(code[i]):\n",
    "            output['white'] += 1\n",
    "    print(output)"
   ]
  },
  {
   "cell_type": "code",
   "execution_count": 7,
   "metadata": {},
   "outputs": [
    {
     "name": "stdout",
     "output_type": "stream",
     "text": [
      "{'black': 0, 'white': 0}\n"
     ]
    }
   ],
   "source": [
    "guess_score(\"1423\", \"5678\")"
   ]
  },
  {
   "cell_type": "code",
   "execution_count": 8,
   "metadata": {},
   "outputs": [
    {
     "name": "stdout",
     "output_type": "stream",
     "text": [
      "{'black': 1, 'white': 0}\n"
     ]
    }
   ],
   "source": [
    "guess_score(\"1423\", \"2222\")"
   ]
  },
  {
   "cell_type": "code",
   "execution_count": 9,
   "metadata": {},
   "outputs": [
    {
     "name": "stdout",
     "output_type": "stream",
     "text": [
      "{'black': 1, 'white': 3}\n"
     ]
    }
   ],
   "source": [
    "guess_score(\"1423\", \"1234\") "
   ]
  },
  {
   "cell_type": "code",
   "execution_count": 10,
   "metadata": {},
   "outputs": [
    {
     "name": "stdout",
     "output_type": "stream",
     "text": [
      "{'black': 0, 'white': 2}\n"
     ]
    }
   ],
   "source": [
    "guess_score(\"1423\", \"2211\")"
   ]
  },
  {
   "cell_type": "markdown",
   "metadata": {},
   "source": [
    "3. Create a function that takes a list lst and a number N and returns a list of two integers from lst whose product equals N."
   ]
  },
  {
   "cell_type": "code",
   "execution_count": 11,
   "metadata": {},
   "outputs": [],
   "source": [
    "def two_product(lst,num):\n",
    "    output = None\n",
    "    for num1 in lst:\n",
    "        for num2 in lst:\n",
    "            if num1*num2 == num:\n",
    "                output = sorted([num1,num2])\n",
    "                break\n",
    "    print(output)"
   ]
  },
  {
   "cell_type": "code",
   "execution_count": 12,
   "metadata": {},
   "outputs": [
    {
     "name": "stdout",
     "output_type": "stream",
     "text": [
      "[4, 5]\n"
     ]
    }
   ],
   "source": [
    "two_product([1, 2, -1, 4, 5], 20)"
   ]
  },
  {
   "cell_type": "code",
   "execution_count": 13,
   "metadata": {},
   "outputs": [
    {
     "name": "stdout",
     "output_type": "stream",
     "text": [
      "[2, 5]\n"
     ]
    }
   ],
   "source": [
    "two_product([1, 2, 3, 4, 5], 10)"
   ]
  },
  {
   "cell_type": "code",
   "execution_count": 14,
   "metadata": {},
   "outputs": [
    {
     "name": "stdout",
     "output_type": "stream",
     "text": [
      "None\n"
     ]
    }
   ],
   "source": [
    "two_product([100, 12, 4, 1, 2], 15)"
   ]
  },
  {
   "cell_type": "markdown",
   "metadata": {},
   "source": [
    "4. In this challenge, sort a list containing a series of dates given as strings. Each date is given in the format DD-MM-YYYY_HH:MM:\n",
    "\"12-02-2012_13:44\"\n",
    "\n",
    "The priority of criteria used for sorting will be:\n",
    "\n",
    "Year\n",
    "\n",
    "Month\n",
    "\n",
    "Day\n",
    "\n",
    "Hours\n",
    "\n",
    "Minutes\n",
    "\n",
    "Given a list lst and a string mode, implement a function that returns:\n",
    "\n",
    "1.if mode is equal to \"ASC\", the list lst sorted in ascending order.\n",
    "\n",
    "2.if mode is equal to \"DSC\", the list lst sorted in descending order."
   ]
  },
  {
   "cell_type": "code",
   "execution_count": 15,
   "metadata": {},
   "outputs": [
    {
     "name": "stdout",
     "output_type": "stream",
     "text": [
      "['10-02-2016_12:30', '10-02-2018_12:15', '10-02-2018_12:30']\n",
      "['10-02-2018_12:30', '10-02-2018_12:15', '10-02-2016_12:30']\n",
      "['01-01-1999_00:55', '09-02-2000_10:03', '10-02-2000_18:29']\n"
     ]
    }
   ],
   "source": [
    "from datetime import datetime\n",
    "def sort_dates(lst,sort_by):\n",
    "    list_clone = lst.copy()\n",
    "    unix = []\n",
    "    for i in lst:\n",
    "        unix.append(datetime.strptime(i, \"%d-%m-%Y_%H:%M\").timestamp())\n",
    "    unix = sorted(unix) if sort_by == 'ASC' else sorted(unix, reverse=True)\n",
    "    output = []\n",
    "    for i in unix:\n",
    "        output.append(datetime.fromtimestamp(i).strftime(\"%d-%m-%Y_%H:%M\"))\n",
    "    print(output)\n",
    "\n",
    "sort_dates([\"10-02-2018_12:30\", \"10-02-2016_12:30\", \"10-02-2018_12:15\"], \"ASC\")\n",
    "sort_dates([\"10-02-2018_12:30\", \"10-02-2016_12:30\", \"10-02-2018_12:15\"], \"DSC\")\n",
    "sort_dates([\"09-02-2000_10:03\", \"10-02-2000_18:29\", \"01-01-1999_00:55\"], \"ASC\")"
   ]
  },
  {
   "cell_type": "markdown",
   "metadata": {},
   "source": [
    "5. Write a function that selects all words that have all the same vowels (in any order and/or number) as the first word, including the first word."
   ]
  },
  {
   "cell_type": "code",
   "execution_count": 16,
   "metadata": {},
   "outputs": [],
   "source": [
    "def same_vowel_group(lst):\n",
    "    vowels = ['a','e','i','o','u']\n",
    "    first = sorted(set([x for x in lst[0] if x in vowels]))\n",
    "    output = []\n",
    "    for i in range(0,len(lst)):\n",
    "        vowels_in_word = [x for x in lst[i] if x in first]\n",
    "        if sorted(first) == sorted(set(vowels_in_word)):\n",
    "            output.append(lst[i])\n",
    "    print(output)"
   ]
  },
  {
   "cell_type": "code",
   "execution_count": 17,
   "metadata": {},
   "outputs": [
    {
     "name": "stdout",
     "output_type": "stream",
     "text": [
      "['toe', 'ocelot']\n"
     ]
    }
   ],
   "source": [
    "same_vowel_group([\"toe\", \"ocelot\", \"maniac\"])"
   ]
  },
  {
   "cell_type": "code",
   "execution_count": 18,
   "metadata": {},
   "outputs": [
    {
     "name": "stdout",
     "output_type": "stream",
     "text": [
      "['many', 'carriage', 'apricot', 'animal']\n"
     ]
    }
   ],
   "source": [
    "same_vowel_group([\"many\", \"carriage\", \"emit\", \"apricot\", \"animal\"])"
   ]
  },
  {
   "cell_type": "code",
   "execution_count": 19,
   "metadata": {},
   "outputs": [
    {
     "name": "stdout",
     "output_type": "stream",
     "text": [
      "['hoops', 'bot', 'bottom']\n"
     ]
    }
   ],
   "source": [
    "same_vowel_group([\"hoops\", \"chuff\", \"bot\", \"bottom\"])"
   ]
  },
  {
   "cell_type": "markdown",
   "metadata": {},
   "source": [
    "6. Create a function that takes a list of more than three numbers and returns the Least Common Multiple (LCM)."
   ]
  },
  {
   "cell_type": "code",
   "execution_count": 20,
   "metadata": {},
   "outputs": [],
   "source": [
    "import math\n",
    "def lcm_of_list(lst):\n",
    "    output = lst[0]\n",
    "    for i in range(1,len(lst)):\n",
    "        output = (output*lst[i])//math.gcd(output,lst[i])\n",
    "    print(output)"
   ]
  },
  {
   "cell_type": "code",
   "execution_count": 21,
   "metadata": {},
   "outputs": [
    {
     "name": "stdout",
     "output_type": "stream",
     "text": [
      "2520\n"
     ]
    }
   ],
   "source": [
    "lcm_of_list([1, 2, 3, 4, 5, 6, 7, 8, 9, 10])"
   ]
  },
  {
   "cell_type": "code",
   "execution_count": 22,
   "metadata": {},
   "outputs": [
    {
     "name": "stdout",
     "output_type": "stream",
     "text": [
      "27965340\n"
     ]
    }
   ],
   "source": [
    "lcm_of_list([13, 6, 17, 18, 19, 20, 37])"
   ]
  },
  {
   "cell_type": "code",
   "execution_count": 23,
   "metadata": {},
   "outputs": [
    {
     "name": "stdout",
     "output_type": "stream",
     "text": [
      "2333760\n"
     ]
    }
   ],
   "source": [
    "lcm_of_list([44, 64, 12, 17, 65])"
   ]
  },
  {
   "cell_type": "code",
   "execution_count": null,
   "metadata": {},
   "outputs": [],
   "source": []
  }
 ],
 "metadata": {
  "kernelspec": {
   "display_name": "Python 3",
   "language": "python",
   "name": "python3"
  },
  "language_info": {
   "codemirror_mode": {
    "name": "ipython",
    "version": 3
   },
   "file_extension": ".py",
   "mimetype": "text/x-python",
   "name": "python",
   "nbconvert_exporter": "python",
   "pygments_lexer": "ipython3",
   "version": "3.7.6"
  }
 },
 "nbformat": 4,
 "nbformat_minor": 4
}
