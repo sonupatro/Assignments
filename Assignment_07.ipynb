{
 "cells": [
  {
   "cell_type": "markdown",
   "metadata": {},
   "source": [
    "# Python Basic Assignment"
   ]
  },
  {
   "cell_type": "markdown",
   "metadata": {},
   "source": [
    "# Assignment 7"
   ]
  },
  {
   "cell_type": "raw",
   "metadata": {},
   "source": [
    "1. What is the name of the feature responsible for generating Regex objects?\n",
    "Ans-\n",
    "re.compile()\n",
    "\n",
    "2. Why do raw strings often appear in Regex objects?\n",
    "Ans-\n",
    "Raw string notation keeps regular expression meaningful and confusion free. Without it every backslash(' \\ ') in regular expression would have to be prefixed with another one to escape it.\n",
    "\n",
    "3.What is the return value of the search() method?\n",
    "Ans-\n",
    "It returns a match object if there is a match else returns none.\n",
    "\n",
    "4. From a Match item, how do you get the actual strings that match the pattern?\n",
    "Ans-\n",
    "group() method returns the actual string that match the pattern.\n",
    "\n",
    "5. In the regex which created from the r'(\\d\\d\\d)-(\\d\\d\\d-\\d\\d\\d\\d)', what does group zero cover?Group 2? Group 1?\n",
    "Ans-\n",
    "Group zero is the entire match . group 0 covers (\\d\\d\\d)-(\\d\\d\\d-\\d\\d\\d\\d)\n",
    "group 1 covers the first set of parentheses. group 1 covers (\\d\\d\\d)\n",
    "group 2 covers the second set of parentheses. group 2 covers (\\d\\d\\d-\\d\\d\\d\\d)\n",
    "6. In standard expression syntax, parentheses and intervals have distinct meanings. How can you tell a regex that you want it to fit real parentheses and periods?\n",
    "Ans- Periods and parentheses can be escaped with a backslash:"
   ]
  },
  {
   "cell_type": "code",
   "execution_count": null,
   "metadata": {},
   "outputs": [],
   "source": [
    "# \\.,  \\(,  \\)"
   ]
  },
  {
   "cell_type": "raw",
   "metadata": {},
   "source": [
    "7.The findall() method returns a string list or a list of string tuples. What causes it to return one of the two options?\n",
    "Ans-\n",
    "If the regex has no groups, a list of strings is returned. If the regex has groups, a list of tuples of strings is returned.\n",
    "\n",
    "8.In standard expressions, what does the | character mean?\n",
    "Ans-\n",
    "It means either or\n",
    "\n",
    "9.In regular expressions, what does the character stand for?\n",
    "Ans-\n",
    "Zero or one occerences\n",
    "\n",
    "10. In regular expressions, what is the difference between the + and * characters?\n",
    "Ans-\n",
    "' + ' refers one or more occurences\n",
    "' * ' refers zero or more occurences.\n",
    "11. What is the difference between {4} and {4,5} in regular expression?\n",
    "Ans-\n",
    "{4} means preceding character is to be repeated 4 times.\n",
    "{4,5} means preceding character is repeated minimum 4 times and maximum 5 times.\n",
    "12. What do you mean by the \\d, \\w, and \\s shorthand character classes signify in regular expressions?\n",
    "Ans-\n",
    "\\d returns a match where string contains digit(number from 0-9)\n",
    "\\w returns a match where string contains any word character(character from a to Z, digit from 0 to 9 and underscore character)\n",
    "\\s returns a match where string contains a whitespace character.\n",
    "13. What do means by \\D, \\W, and \\S shorthand character classes signify in regular expressions?\n",
    "Ans-\n",
    "The \\D, \\W, and \\S shorthand character classes match a single character that is not a digit, word, or space character, respectively.\n",
    "14. What is the difference between .? and .?\n",
    "Ans-\n",
    "' . ' accepts as many sequence as available(Greedy approach)\n",
    "' .? ' accepts the first matched sequence and then stops(Non-Greedy approach).\n",
    "15. What is the syntax for matching both numbers and lowercase letters with a character class?\n",
    "Ans-\n",
    "[a-z0-9]\n",
    "\n",
    "16. What is the procedure for making a normal expression in regax case insensitive?\n",
    "Ans-\n",
    "pass re.IGNORECASE to re.compile()\n",
    "\n",
    "17. What does the . character normally match? What does it match if re.DOTALL is passed as 2nd argument in re.compile()?\n",
    "Ans-\n",
    "' . ' character normally pass any character except newline character. With the help of DOTALL, ' . ' character can match any character including newline.\n",
    "\n",
    "18. If numReg = re.compile(r'\\d+'), what will numReg.sub('X', '11 drummers, 10 pipers, five rings, 4 hen') return?\n",
    "Ans-\n",
    "'X drummers, X pipers, five rings, X hen'\n",
    "\n",
    "19. What does passing re.VERBOSE as the 2nd argument to re.compile() allow to do?\n",
    "Ans-\n",
    "It allows to write regular expressin that look nicer and are more readable by allowing visually separate logical section of the pattern and add comments.\n",
    "\n",
    "20. How would you write a regex that match a number with comma for every three digits? It must\n",
    "match the given following: '42'\n",
    "'1,234'\n",
    "'6,368,745'\n",
    "\n",
    "but not the following:\n",
    "'12,34,567' (which has only two digits between the commas)\n",
    "'1234' (which lacks commas)\n",
    "\n",
    "Ans-\n",
    "e.compile(r'^\\d{1,3}(,\\d{3})*$') will create this regex, but other regex strings can produce a similar regular expression.\n",
    "\n",
    "21. How would you write a regex that matches the full name of someone whose last name is Watanabe? You can assume that the first name that comes before it will always be one word that begins with a capital letter. The regex must match the following:\n",
    "'Haruto Watanabe'\n",
    "'Alice Watanabe'\n",
    "'RoboCop Watanabe'\n",
    "but not the following:\n",
    "'haruto Watanabe' (where the first name is not capitalized)\n",
    "'Mr. Watanabe' (where the preceding word has a nonletter character)\n",
    "'Watanabe' (which has no first name)\n",
    "'Haruto watanabe' (where Watanabe is not capitalized)\n",
    "\n",
    "Ans -\n",
    "re.compile(r'[A-Z][a-z]*\\sWatanabe')\n",
    "\n",
    "22. How would you write a regex that matches a sentence where the first word is either Alice, Bob, or Carol; the second word is either eats, pets, or throws; the third word is apples, cats, or baseballs; and the sentence ends with a period? This regex should be case-insensitive. It must match the following:\n",
    "'Alice eats apples.'\n",
    "'Bob pets cats.'\n",
    "'Carol throws baseballs.'\n",
    "'Alice throws Apples.'\n",
    "'BOB EATS CATS.'\n",
    "\n",
    "but not the following:\n",
    "'RoboCop eats apples.'\n",
    "'ALICE THROWS FOOTBALLS.'\n",
    "'Carol eats 7 cats.'\n",
    "\n",
    "Ans-\n",
    "re.compile(r'(Alice|Bob|Carol)\\s(eats|pets|throws)\\s(apples|cats|baseballs).', re.IGNORECASE)"
   ]
  },
  {
   "cell_type": "code",
   "execution_count": null,
   "metadata": {},
   "outputs": [],
   "source": []
  },
  {
   "cell_type": "code",
   "execution_count": null,
   "metadata": {},
   "outputs": [],
   "source": []
  }
 ],
 "metadata": {
  "kernelspec": {
   "display_name": "Python 3",
   "language": "python",
   "name": "python3"
  },
  "language_info": {
   "codemirror_mode": {
    "name": "ipython",
    "version": 3
   },
   "file_extension": ".py",
   "mimetype": "text/x-python",
   "name": "python",
   "nbconvert_exporter": "python",
   "pygments_lexer": "ipython3",
   "version": "3.7.6"
  }
 },
 "nbformat": 4,
 "nbformat_minor": 4
}
