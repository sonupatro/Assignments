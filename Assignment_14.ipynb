{
 "cells": [
  {
   "cell_type": "markdown",
   "metadata": {},
   "source": [
    "# Python Basic Assignment"
   ]
  },
  {
   "cell_type": "markdown",
   "metadata": {},
   "source": [
    "# Assignment 14"
   ]
  },
  {
   "cell_type": "markdown",
   "metadata": {},
   "source": [
    "1. What does RGBA stand for?\n",
    "\n",
    "Ans-\n",
    "\n",
    "RGBA: Red-Green-Blue-Alpha\n",
    "\n",
    "2.From the Pillow module, how do you get the RGBA value of any images?\n",
    "\n",
    "Ans-\n",
    "\n",
    "from PIL import ImageColor\n",
    "\n",
    "ImageColor.getcolor(color_name, 'RGBA')\n",
    "\n",
    "3.What is a box tuple, and how does it work?\n",
    "\n",
    "Ans-\n",
    "\n",
    "Many Pillow's function take box tuple argument. This means pillow is taking a tuple of four integer coordinates that expecting a rectangular region in image. The four integers are in order left, top, right, bottom.\n",
    "\n",
    "4.Use your image and load in notebook then, How can you find out the width and height of an Image object?\n",
    "\n",
    "Ans-\n",
    "\n",
    "We could use the Image class of IPython.display to load and , we can vary the width and height to adjust the image size.\n",
    "\n",
    "5.What method would you call to get Image object for a 100×100 image, excluding the lower-left quarter of it?\n",
    "\n",
    "Ans-\n",
    "\n",
    "from PIL import Image\n",
    "\n",
    "Image.new('RGBA', (100,100))\n",
    "\n",
    "6.After making changes to an Image object, how could you save it as an image file?\n",
    "\n",
    "Ans-\n",
    "\n",
    "save(filename)\n",
    "\n",
    "7.What module contains Pillow’s shape-drawing code?\n",
    "\n",
    "Ans-\n",
    "\n",
    "ImageDraw\n",
    "\n",
    "8.Image objects do not have drawing methods. What kind of object does? How do you get this kind of object?\n",
    "\n",
    "Ans-\n",
    "\n",
    "wand.drawing.Drawing object has drawing methods.\n",
    "\n",
    "It can be got this way:\n",
    "\n",
    "from wand.drawing import Drawing\n",
    "\n",
    " "
   ]
  },
  {
   "cell_type": "code",
   "execution_count": null,
   "metadata": {},
   "outputs": [],
   "source": []
  }
 ],
 "metadata": {
  "kernelspec": {
   "display_name": "Python 3",
   "language": "python",
   "name": "python3"
  },
  "language_info": {
   "codemirror_mode": {
    "name": "ipython",
    "version": 3
   },
   "file_extension": ".py",
   "mimetype": "text/x-python",
   "name": "python",
   "nbconvert_exporter": "python",
   "pygments_lexer": "ipython3",
   "version": "3.7.6"
  }
 },
 "nbformat": 4,
 "nbformat_minor": 4
}
