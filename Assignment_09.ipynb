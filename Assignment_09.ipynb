{
 "cells": [
  {
   "cell_type": "markdown",
   "metadata": {},
   "source": [
    "# Python Basic Assignment"
   ]
  },
  {
   "cell_type": "markdown",
   "metadata": {},
   "source": [
    "# Assignment 9"
   ]
  },
  {
   "cell_type": "raw",
   "metadata": {},
   "source": [
    "1. To what does a relative path refer?\n",
    "Ans-\n",
    "Relative paths are relative to the current working directory. When using relative path, we need to provide the absolute/complete path of file from the root directory, instead we can give the partial/relative path to indicate the file location.\n",
    "\n",
    "2. What does an absolute path start with your operating system?\n",
    "Ans-\n",
    "I am using Windows Operating System with Single Hard drive, so my absolute path starts with C:\\\n",
    "3. What do the functions os.getcwd() and os.chdir() do?\n",
    "Ans-\n",
    "os.getcwd() returns you the current working directory path\n",
    "os.chdir() is used to change the current working directory while running the program\n",
    "4. What are the . and .. folders?\n",
    "Ans-\n",
    ". single dot means the current folder\n",
    ".. double dot means the parent folder\n",
    "5. In C:\\bacon\\eggs\\spam.txt, which part is the dir name, and which part is the base name?\n",
    "Ans-\n",
    "C:\\bacon\\eggs is the dir name\n",
    "spam.txt is the base name\n",
    "6. What are the three “mode” arguments that can be passed to the open() function?\n",
    "Ans-\n",
    "'r' for read mode\n",
    "'w' for write mode\n",
    "'a' for append mode.\n",
    "7. What happens if an existing file is opened in write mode?\n",
    "Ans-\n",
    "If an existing file is opened in write mode, then all the existing content from the file is erased and the new content will be added.\n",
    "This might result in loss of data if you wanted to have both existing and new data to existing in the file\n",
    "8. How do you tell the difference between read() and readlines()?\n",
    "Ans-\n",
    "The read() method returns the file’s entire contents as a single string value.\n",
    "The readlines() method returns a list of strings, where each string is a line from the file’s contents.\n",
    "9. What data structure does a shelf value resemble?\n",
    "Ans-\n",
    "A shelf value resembles a dictionary value; it has keys and values, along with keys() and values() methods that work similarly to the dictionary methods of the same names."
   ]
  }
 ],
 "metadata": {
  "kernelspec": {
   "display_name": "Python 3",
   "language": "python",
   "name": "python3"
  },
  "language_info": {
   "codemirror_mode": {
    "name": "ipython",
    "version": 3
   },
   "file_extension": ".py",
   "mimetype": "text/x-python",
   "name": "python",
   "nbconvert_exporter": "python",
   "pygments_lexer": "ipython3",
   "version": "3.7.6"
  }
 },
 "nbformat": 4,
 "nbformat_minor": 4
}
