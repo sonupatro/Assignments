{
 "cells": [
  {
   "cell_type": "markdown",
   "metadata": {},
   "source": [
    "Q-1. Write an SQL query to fetch intersecting records of two tables.\n",
    "\n",
    "Ans : \n",
    "\n",
    "SELECT ID, NAME, Amount, Date FROM Customers LEFT JOIN Orders ON Customers.ID = Orders.Customer_id\n",
    "INTERSECT\n",
    "\n",
    "SELECT ID, NAME, Amount, Date FROM Customers RIGHT JOIN Orders ON Customers.ID = Orders.Customer_id;"
   ]
  },
  {
   "cell_type": "markdown",
   "metadata": {},
   "source": [
    "Q-2. Write an SQL query to show records from one table that another table does not have.\n",
    "\n",
    "Ans : \n",
    "\n",
    "SELECT * FROM employee_details WHERE emp_id NOT IN(SELECT emp_id FROM employee_resigned)"
   ]
  },
  {
   "cell_type": "code",
   "execution_count": null,
   "metadata": {},
   "outputs": [],
   "source": []
  }
 ],
 "metadata": {
  "kernelspec": {
   "display_name": "Python 3",
   "language": "python",
   "name": "python3"
  },
  "language_info": {
   "codemirror_mode": {
    "name": "ipython",
    "version": 3
   },
   "file_extension": ".py",
   "mimetype": "text/x-python",
   "name": "python",
   "nbconvert_exporter": "python",
   "pygments_lexer": "ipython3",
   "version": "3.7.6"
  }
 },
 "nbformat": 4,
 "nbformat_minor": 4
}
