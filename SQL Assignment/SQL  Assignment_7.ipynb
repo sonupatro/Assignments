{
 "cells": [
  {
   "cell_type": "markdown",
   "metadata": {},
   "source": [
    "Q-1. Write an SQL query to show only odd rows from a table\n",
    "\n",
    "Ans :- \n",
    "\n",
    "SELECT * FROM Worker Where MOD(worker_id,2) = 1"
   ]
  },
  {
   "cell_type": "markdown",
   "metadata": {},
   "source": [
    "Q-2. Write an SQL query to clone a new table from another table.\n",
    "\n",
    "Ans : \n",
    "\n",
    "CREATE TABLE Worker2 ( WORKER_ID INT NOT NULL AUTO INCREMENT PRIMARY KEY, FIRST_NAME VARCHAR(50), LAST_NAME VARCHAR(50), SALARY INT, DEPARTMENT VARCHAR(50), JOINING_DATE DATETIME ); INSERT INTO Worker2 SELECT * FROM Worker;"
   ]
  },
  {
   "cell_type": "markdown",
   "metadata": {},
   "source": []
  }
 ],
 "metadata": {
  "kernelspec": {
   "display_name": "Python 3",
   "language": "python",
   "name": "python3"
  },
  "language_info": {
   "codemirror_mode": {
    "name": "ipython",
    "version": 3
   },
   "file_extension": ".py",
   "mimetype": "text/x-python",
   "name": "python",
   "nbconvert_exporter": "python",
   "pygments_lexer": "ipython3",
   "version": "3.7.6"
  }
 },
 "nbformat": 4,
 "nbformat_minor": 4
}
