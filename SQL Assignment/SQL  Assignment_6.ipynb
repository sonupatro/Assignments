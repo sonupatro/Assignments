{
 "cells": [
  {
   "cell_type": "markdown",
   "metadata": {},
   "source": [
    "Q-1. Write an SQL query to print details of the Workers who have joined in Feb’2014.\n",
    "\n",
    "Ans : \n",
    "\n",
    "SELECT * FROM Worker WHERE YEAR(JOINING_DATE) = 2014 AND MONTH(JOINING_DATE) = 02;"
   ]
  },
  {
   "cell_type": "markdown",
   "metadata": {},
   "source": [
    "Q-2. Write an SQL query to fetch duplicate records having matching data in some fields of a table.\n",
    "\n",
    "Ans : \n",
    "\n",
    "SELECT column_name, COUNT(column_name) FROM Worker GROUP BY FEILD HAVING COUNT(column_name) > 1;"
   ]
  },
  {
   "cell_type": "markdown",
   "metadata": {},
   "source": [
    "Q-3. How to remove duplicate rows from Employees table.\n",
    "\n",
    "Ans : \n",
    "\n",
    "CREATE TABLE Employee ( ID INT PRIMARY KEY AUTO_INCREMENT NOT NULL, FIRST_NAME VARCHAR(50),\n",
    "LAST_NAME VARCHAR(50),\n",
    "COUNTRY VARCHAR(50) );\n",
    "\n",
    "INSERT INTO Employee VALUES (1,'RANI','SHARMA','INDIA'),\n",
    "(2,'RANI','SHARMA','INDIA'),\n",
    "(3,'RANI','SHARMA','INDIA'),\n",
    "(4,'DHANSHRI','MANUSMARE','USA'),\n",
    "(5,'DHANSHRI','MANUSMARE','USA'),\n",
    "(6,'DHANSHRI','MANUSMARE','USA');\n",
    "\n",
    "DELETE e1.* from employee e1 INNER JOIN employee e2 WHERE e1.id > e2.id AND e1.FIRST_NAME = e2.FIRST_NAME AND e1.LAST_NAME = e2.LAST_NAME AND e1.COUNTRY = e2.COUNTRY;"
   ]
  }
 ],
 "metadata": {
  "kernelspec": {
   "display_name": "Python 3",
   "language": "python",
   "name": "python3"
  },
  "language_info": {
   "codemirror_mode": {
    "name": "ipython",
    "version": 3
   },
   "file_extension": ".py",
   "mimetype": "text/x-python",
   "name": "python",
   "nbconvert_exporter": "python",
   "pygments_lexer": "ipython3",
   "version": "3.7.6"
  }
 },
 "nbformat": 4,
 "nbformat_minor": 4
}
